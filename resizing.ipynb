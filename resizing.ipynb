{
  "nbformat": 4,
  "nbformat_minor": 0,
  "metadata": {
    "kernelspec": {
      "display_name": "Python 3",
      "language": "python",
      "name": "python3"
    },
    "language_info": {
      "codemirror_mode": {
        "name": "ipython",
        "version": 3
      },
      "file_extension": ".py",
      "mimetype": "text/x-python",
      "name": "python",
      "nbconvert_exporter": "python",
      "pygments_lexer": "ipython3",
      "version": "3.8.3"
    },
    "colab": {
      "name": "resizing.ipynb",
      "provenance": [],
      "include_colab_link": true
    }
  },
  "cells": [
    {
      "cell_type": "markdown",
      "metadata": {
        "id": "view-in-github",
        "colab_type": "text"
      },
      "source": [
        "<a href=\"https://colab.research.google.com/github/uol-mediaprocessing-202021/medienverarbeitung-b-color-and-tone-correction/blob/develop/resizing.ipynb\" target=\"_parent\"><img src=\"https://colab.research.google.com/assets/colab-badge.svg\" alt=\"Open In Colab\"/></a>"
      ]
    },
    {
      "cell_type": "markdown",
      "metadata": {
        "id": "DEbzF04t483W"
      },
      "source": [
        "# Resizing of images for Machine Learning"
      ]
    },
    {
      "cell_type": "markdown",
      "metadata": {
        "id": "Xy5ekphU483a"
      },
      "source": [
        "We resized the training patches to 100x100 using the OpenCV library,so we could use them to further train the pretrained model"
      ]
    },
    {
      "cell_type": "code",
      "metadata": {
        "id": "NTB7LA85483c"
      },
      "source": [
        "import cv2\n",
        "import os\n",
        "import matplotlib.pyplot as plt"
      ],
      "execution_count": null,
      "outputs": []
    },
    {
      "cell_type": "markdown",
      "metadata": {
        "id": "e6OSE_vK483e"
      },
      "source": [
        "Loading all the file names from the folder 'Zurich-RAW-to-DSLR-Dataset/train/canon':"
      ]
    },
    {
      "cell_type": "code",
      "metadata": {
        "id": "j3uOmhxx483f"
      },
      "source": [
        "data_files=os.listdir('Zurich-RAW-to-DSLR-Dataset/train/canon')"
      ],
      "execution_count": null,
      "outputs": []
    },
    {
      "cell_type": "markdown",
      "metadata": {
        "id": "XLHCGzab483g"
      },
      "source": [
        "For loop resizing all of the files in that folder:"
      ]
    },
    {
      "cell_type": "code",
      "metadata": {
        "id": "KcCm5z9P483g"
      },
      "source": [
        "for file in data_files:\n",
        "    srcstring = 'Zurich-RAW-to-DSLR-Dataset/train/canon/' + file\n",
        "    src = cv2.imread(srcstring,cv2.IMREAD_UNCHANGED)\n",
        "    \n",
        "   \n",
        "    # size\n",
        "    dsize = (100, 100)\n",
        "\n",
        "    # resize image\n",
        "    output = cv2.resize(src, dsize)\n",
        "    namestring = \"canon_resized/\"\n",
        "    namestring = namestring + file\n",
        "    cv2.imwrite(namestring,output) \n",
        "    counter=counter+1"
      ],
      "execution_count": null,
      "outputs": []
    }
  ]
}