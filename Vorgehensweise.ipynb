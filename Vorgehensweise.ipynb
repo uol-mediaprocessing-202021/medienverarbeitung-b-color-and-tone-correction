{
  "nbformat": 4,
  "nbformat_minor": 0,
  "metadata": {
    "colab": {
      "name": "Vorgehensweise.ipynb",
      "provenance": [],
      "authorship_tag": "ABX9TyPGyitA36YNwx7xI3quPsXY",
      "include_colab_link": true
    },
    "kernelspec": {
      "name": "python3",
      "display_name": "Python 3"
    }
  },
  "cells": [
    {
      "cell_type": "markdown",
      "metadata": {
        "id": "view-in-github",
        "colab_type": "text"
      },
      "source": [
        "<a href=\"https://colab.research.google.com/github/uol-mediaprocessing-202021/medienverarbeitung-b-color-and-tone-correction/blob/develop/Vorgehensweise.ipynb\" target=\"_parent\"><img src=\"https://colab.research.google.com/assets/colab-badge.svg\" alt=\"Open In Colab\"/></a>"
      ]
    },
    {
      "cell_type": "markdown",
      "metadata": {
        "id": "XCj2jA9DfTZZ"
      },
      "source": [
        "Phase 1: Die Vorbereitung \n",
        "\n",
        "Wir benötigen einen geeigneten Trainingsdatensatz, welcher die Bilder in raw und processed zur Verfügung stellt. Das hat den Grund, dass wir so einen Vergleich zwischen den Bildern \n",
        "beziehen können. Des Weiteren können wir so das Machine Learning mit mehr Wissen bereichern. Falls das nicht möglich ist, haben wir uns als alternative überlegt einen eigenen \n",
        "Trainingsdatensatz zu erstellen. Hierbei werden normale Bilder heruntergeladen und farblich qualitativ von uns verschlechtert. Eine weitere Vorgehensweise ist, dass man über \n",
        "Algorithmen versucht die Bilder in Bereichen (bspw. Vordergrund, Hintergrund, etc.) zu unterteilen, um so die Farbkorrekturen anwenden zu können. Man könnte sich auch auf bestimmte \n",
        "Objekte wie zum Beispiel Früchte beschränken, um eine Objekterkennung zu nutzen, welche die Farben im Bild korrigiert. Außerdem könnte man versuchen das Bild pixelweise generisch zu \n",
        "erkennen, um dann einen Algorithmus anzuwenden, der die Farben im Bild korrigiert. \n",
        "\n",
        "\n",
        "Phase 2: Umsetzung\n",
        "\n"
      ]
    }
  ]
}