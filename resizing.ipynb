{
 "cells": [
  {
   "cell_type": "markdown",
   "metadata": {},
   "source": [
    "# Resizing of images for Machine Learning"
   ]
  },
  {
   "cell_type": "markdown",
   "metadata": {},
   "source": [
    "We resized the training patches to 100x100 using the OpenCV library,so we could use them to further train the pretrained model"
   ]
  },
  {
   "cell_type": "code",
   "execution_count": 14,
   "metadata": {},
   "outputs": [],
   "source": [
    "import cv2\n",
    "import os\n",
    "import matplotlib.pyplot as plt"
   ]
  },
  {
   "cell_type": "markdown",
   "metadata": {},
   "source": [
    "Loading all the file names from the folder 'Zurich-RAW-to-DSLR-Dataset/train/canon':"
   ]
  },
  {
   "cell_type": "code",
   "execution_count": 3,
   "metadata": {},
   "outputs": [],
   "source": [
    "data_files=os.listdir('Zurich-RAW-to-DSLR-Dataset/train/canon')"
   ]
  },
  {
   "cell_type": "markdown",
   "metadata": {},
   "source": [
    "For loop resizing all of the files in that folder:"
   ]
  },
  {
   "cell_type": "code",
   "execution_count": 18,
   "metadata": {},
   "outputs": [],
   "source": [
    "for file in data_files:\n",
    "    srcstring = 'Zurich-RAW-to-DSLR-Dataset/train/canon/' + file\n",
    "    src = cv2.imread(srcstring,cv2.IMREAD_UNCHANGED)\n",
    "    \n",
    "   \n",
    "    # size\n",
    "    dsize = (100, 100)\n",
    "\n",
    "    # resize image\n",
    "    output = cv2.resize(src, dsize)\n",
    "    namestring = \"canon_resized/\"\n",
    "    namestring = namestring + file\n",
    "    cv2.imwrite(namestring,output) \n",
    "    counter=counter+1"
   ]
  }
 ],
 "metadata": {
  "kernelspec": {
   "display_name": "Python 3",
   "language": "python",
   "name": "python3"
  },
  "language_info": {
   "codemirror_mode": {
    "name": "ipython",
    "version": 3
   },
   "file_extension": ".py",
   "mimetype": "text/x-python",
   "name": "python",
   "nbconvert_exporter": "python",
   "pygments_lexer": "ipython3",
   "version": "3.8.3"
  }
 },
 "nbformat": 4,
 "nbformat_minor": 4
}
