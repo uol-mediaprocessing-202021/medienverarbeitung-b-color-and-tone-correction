{
  "nbformat": 4,
  "nbformat_minor": 0,
  "metadata": {
    "colab": {
      "name": "ML_1.ipynb",
      "provenance": [],
      "mount_file_id": "1ebqk85K1h_hb8DypTgnnZF0mEuOBaK_W",
      "authorship_tag": "ABX9TyP4SPSNL2hCMorwMa4vMa2B",
      "include_colab_link": true
    },
    "kernelspec": {
      "name": "python3",
      "display_name": "Python 3"
    },
    "accelerator": "GPU"
  },
  "cells": [
    {
      "cell_type": "markdown",
      "metadata": {
        "id": "view-in-github",
        "colab_type": "text"
      },
      "source": [
        "<a href=\"https://colab.research.google.com/github/uol-mediaprocessing-202021/medienverarbeitung-b-color-and-tone-correction/blob/develop/ML_1.ipynb\" target=\"_parent\"><img src=\"https://colab.research.google.com/assets/colab-badge.svg\" alt=\"Open In Colab\"/></a>"
      ]
    },
    {
      "cell_type": "code",
      "metadata": {
        "id": "TCBIFYnxabrN"
      },
      "source": [
        "import tensorflow as tf\r\n",
        "import keras\r\n",
        "import numpy as np\r\n",
        "import cv2\r\n",
        "import matplotlib.pyplot as plt\r\n",
        "import sys\r\n",
        "\r\n",
        "from zipfile import ZipFile"
      ],
      "execution_count": 1,
      "outputs": []
    },
    {
      "cell_type": "code",
      "metadata": {
        "colab": {
          "base_uri": "https://localhost:8080/"
        },
        "id": "w1JHXZT6cchT",
        "outputId": "6c8d0f48-441b-4b6a-cced-18583ecb5680"
      },
      "source": [
        "from google.colab import drive\r\n",
        "drive.mount(\"/content/gdrive\")"
      ],
      "execution_count": 2,
      "outputs": [
        {
          "output_type": "stream",
          "text": [
            "Mounted at /content/gdrive\n"
          ],
          "name": "stdout"
        }
      ]
    },
    {
      "cell_type": "code",
      "metadata": {
        "id": "Q7kG0eDHc9-S"
      },
      "source": [
        "with ZipFile('/content/gdrive/MyDrive/huawei10000/huawei10000.zip', 'r') as zipObj:\r\n",
        "   # Extract all the contents of zip file in current directory\r\n",
        "   zipObj.extractall(path=\"/content/gdrive/MyDrive/huawei10000/\")"
      ],
      "execution_count": null,
      "outputs": []
    },
    {
      "cell_type": "code",
      "metadata": {
        "id": "8ye5IW4Gl2pC"
      },
      "source": [
        "with ZipFile('/content/gdrive/MyDrive/canon10000/canon10000.zip', 'r') as zipObj:\r\n",
        "   # Extract all the contents of zip file in current directory\r\n",
        "   zipObj.extractall(path=\"/content/gdrive/MyDrive/canon10000/\")"
      ],
      "execution_count": null,
      "outputs": []
    },
    {
      "cell_type": "code",
      "metadata": {
        "id": "UU1a-68W_Ixf",
        "colab": {
          "base_uri": "https://localhost:8080/",
          "height": 429
        },
        "outputId": "2382869e-afba-4f7f-9c21-099e25e01732"
      },
      "source": [
        "with ZipFile('/content/gdrive/MyDrive/DPED-master/DPED-master.zip', 'r') as zipObj:\r\n",
        "   # Extract all the contents of zip file in current directory\r\n",
        "   zipObj.extractall(path=\"/content/gdrive/MyDrive/DPED-master/\")"
      ],
      "execution_count": null,
      "outputs": [
        {
          "output_type": "error",
          "ename": "FileNotFoundError",
          "evalue": "ignored",
          "traceback": [
            "\u001b[0;31m---------------------------------------------------------------------------\u001b[0m",
            "\u001b[0;31mFileNotFoundError\u001b[0m                         Traceback (most recent call last)",
            "\u001b[0;32m<ipython-input-9-6b72f263c989>\u001b[0m in \u001b[0;36m<module>\u001b[0;34m()\u001b[0m\n\u001b[1;32m      1\u001b[0m \u001b[0;32mfrom\u001b[0m \u001b[0mzipfile\u001b[0m \u001b[0;32mimport\u001b[0m \u001b[0mZipFile\u001b[0m\u001b[0;34m\u001b[0m\u001b[0;34m\u001b[0m\u001b[0m\n\u001b[1;32m      2\u001b[0m \u001b[0;34m\u001b[0m\u001b[0m\n\u001b[0;32m----> 3\u001b[0;31m \u001b[0;32mwith\u001b[0m \u001b[0mZipFile\u001b[0m\u001b[0;34m(\u001b[0m\u001b[0;34m'/content/gdrive/MyDrive/DPED-master/DPED-master.zip'\u001b[0m\u001b[0;34m,\u001b[0m \u001b[0;34m'r'\u001b[0m\u001b[0;34m)\u001b[0m \u001b[0;32mas\u001b[0m \u001b[0mzipObj\u001b[0m\u001b[0;34m:\u001b[0m\u001b[0;34m\u001b[0m\u001b[0;34m\u001b[0m\u001b[0m\n\u001b[0m\u001b[1;32m      4\u001b[0m    \u001b[0;31m# Extract all the contents of zip file in current directory\u001b[0m\u001b[0;34m\u001b[0m\u001b[0;34m\u001b[0m\u001b[0;34m\u001b[0m\u001b[0m\n\u001b[1;32m      5\u001b[0m    \u001b[0mzipObj\u001b[0m\u001b[0;34m.\u001b[0m\u001b[0mextractall\u001b[0m\u001b[0;34m(\u001b[0m\u001b[0mpath\u001b[0m\u001b[0;34m=\u001b[0m\u001b[0;34m\"/content/gdrive/MyDrive/DPED-master/\"\u001b[0m\u001b[0;34m)\u001b[0m\u001b[0;34m\u001b[0m\u001b[0;34m\u001b[0m\u001b[0m\n",
            "\u001b[0;32m/usr/lib/python3.6/zipfile.py\u001b[0m in \u001b[0;36m__init__\u001b[0;34m(self, file, mode, compression, allowZip64)\u001b[0m\n\u001b[1;32m   1111\u001b[0m             \u001b[0;32mwhile\u001b[0m \u001b[0;32mTrue\u001b[0m\u001b[0;34m:\u001b[0m\u001b[0;34m\u001b[0m\u001b[0;34m\u001b[0m\u001b[0m\n\u001b[1;32m   1112\u001b[0m                 \u001b[0;32mtry\u001b[0m\u001b[0;34m:\u001b[0m\u001b[0;34m\u001b[0m\u001b[0;34m\u001b[0m\u001b[0m\n\u001b[0;32m-> 1113\u001b[0;31m                     \u001b[0mself\u001b[0m\u001b[0;34m.\u001b[0m\u001b[0mfp\u001b[0m \u001b[0;34m=\u001b[0m \u001b[0mio\u001b[0m\u001b[0;34m.\u001b[0m\u001b[0mopen\u001b[0m\u001b[0;34m(\u001b[0m\u001b[0mfile\u001b[0m\u001b[0;34m,\u001b[0m \u001b[0mfilemode\u001b[0m\u001b[0;34m)\u001b[0m\u001b[0;34m\u001b[0m\u001b[0;34m\u001b[0m\u001b[0m\n\u001b[0m\u001b[1;32m   1114\u001b[0m                 \u001b[0;32mexcept\u001b[0m \u001b[0mOSError\u001b[0m\u001b[0;34m:\u001b[0m\u001b[0;34m\u001b[0m\u001b[0;34m\u001b[0m\u001b[0m\n\u001b[1;32m   1115\u001b[0m                     \u001b[0;32mif\u001b[0m \u001b[0mfilemode\u001b[0m \u001b[0;32min\u001b[0m \u001b[0mmodeDict\u001b[0m\u001b[0;34m:\u001b[0m\u001b[0;34m\u001b[0m\u001b[0;34m\u001b[0m\u001b[0m\n",
            "\u001b[0;31mFileNotFoundError\u001b[0m: [Errno 2] No such file or directory: '/content/gdrive/MyDrive/DPED-master/DPED-master.zip'"
          ]
        }
      ]
    },
    {
      "cell_type": "code",
      "metadata": {
        "id": "y52sj97rIipl"
      },
      "source": [
        "with ZipFile('/content/gdrive/MyDrive/canon_test.zip', 'r') as zipObj:\r\n",
        "   # Extract all the contents of zip file in current directory\r\n",
        "   zipObj.extractall(path=\"/content/gdrive/MyDrive/canon_test/\")"
      ],
      "execution_count": null,
      "outputs": []
    },
    {
      "cell_type": "code",
      "metadata": {
        "id": "5tRTcfmQIjZH"
      },
      "source": [
        "with ZipFile('/content/gdrive/MyDrive/huawei_test.zip', 'r') as zipObj:\r\n",
        "   # Extract all the contents of zip file in current directory\r\n",
        "   zipObj.extractall(path=\"/content/gdrive/MyDrive/huawei_test/\")"
      ],
      "execution_count": null,
      "outputs": []
    },
    {
      "cell_type": "code",
      "metadata": {
        "id": "jSzDZPf_kLHM",
        "colab": {
          "base_uri": "https://localhost:8080/",
          "height": 172
        },
        "outputId": "9759d91c-47ca-4aab-c36f-ded13c114724"
      },
      "source": [
        "image = cv2.imread(\"/content/gdrive/MyDrive/huawei10000/huawei/0.jpg\")"
      ],
      "execution_count": null,
      "outputs": [
        {
          "output_type": "error",
          "ename": "KeyboardInterrupt",
          "evalue": "ignored",
          "traceback": [
            "\u001b[0;31m---------------------------------------------------------------------------\u001b[0m",
            "\u001b[0;31mKeyboardInterrupt\u001b[0m                         Traceback (most recent call last)",
            "\u001b[0;32m<ipython-input-3-857053859bcd>\u001b[0m in \u001b[0;36m<module>\u001b[0;34m()\u001b[0m\n\u001b[0;32m----> 1\u001b[0;31m \u001b[0mimage\u001b[0m \u001b[0;34m=\u001b[0m \u001b[0mcv2\u001b[0m\u001b[0;34m.\u001b[0m\u001b[0mimread\u001b[0m\u001b[0;34m(\u001b[0m\u001b[0;34m\"/content/gdrive/MyDrive/huawei10000/huawei/0.jpg\"\u001b[0m\u001b[0;34m)\u001b[0m\u001b[0;34m\u001b[0m\u001b[0;34m\u001b[0m\u001b[0m\n\u001b[0m",
            "\u001b[0;31mKeyboardInterrupt\u001b[0m: "
          ]
        }
      ]
    },
    {
      "cell_type": "code",
      "metadata": {
        "id": "ktJyN0Hee4e5"
      },
      "source": [
        "plt.imshow(image)"
      ],
      "execution_count": null,
      "outputs": []
    },
    {
      "cell_type": "code",
      "metadata": {
        "id": "laNFT9fH_MOg"
      },
      "source": [
        "sys.path.append('/content/gdrive/MyDrive/DPED-master/DPED-master')"
      ],
      "execution_count": 3,
      "outputs": []
    },
    {
      "cell_type": "code",
      "metadata": {
        "id": "sAbaCbOdkuPb",
        "colab": {
          "base_uri": "https://localhost:8080/"
        },
        "outputId": "55afc21e-5269-4b78-e98b-a5095c3b1ea7"
      },
      "source": [
        "%cd /content/gdrive/MyDrive/DPED-master/DPED-master/"
      ],
      "execution_count": 4,
      "outputs": [
        {
          "output_type": "stream",
          "text": [
            "/content/gdrive/MyDrive/DPED-master/DPED-master\n"
          ],
          "name": "stdout"
        }
      ]
    },
    {
      "cell_type": "code",
      "metadata": {
        "id": "dmoAqoN0_qnz"
      },
      "source": [
        "!python load_dataset.py model=iphone"
      ],
      "execution_count": 5,
      "outputs": []
    },
    {
      "cell_type": "code",
      "metadata": {
        "id": "GE6656ShD30y",
        "colab": {
          "base_uri": "https://localhost:8080/"
        },
        "outputId": "8bf84f99-04c8-4bea-a0fc-d556ace1ad8b"
      },
      "source": [
        "!python train_model.py model=iphone train_size=10019"
      ],
      "execution_count": null,
      "outputs": [
        {
          "output_type": "stream",
          "text": [
            "2021-01-20 11:45:16.371049: I tensorflow/stream_executor/platform/default/dso_loader.cc:49] Successfully opened dynamic library libcudart.so.10.1\n",
            "WARNING:tensorflow:From /usr/local/lib/python3.6/dist-packages/tensorflow/python/compat/v2_compat.py:96: disable_resource_variables (from tensorflow.python.ops.variable_scope) is deprecated and will be removed in a future version.\n",
            "Instructions for updating:\n",
            "non-resource variables are not supported in the long term\n",
            "\n",
            "The following parameters will be applied for CNN training:\n",
            "\n",
            "Phone model: iphone\n",
            "Batch size: 50\n",
            "Learning rate: 0.0005\n",
            "Training iterations: 20000\n",
            "\n",
            "Content loss: 10\n",
            "Color loss: 0.5\n",
            "Texture loss: 1\n",
            "Total variation loss: 2000\n",
            "\n",
            "Path to DPED dataset: dped/\n",
            "Path to VGG-19 network: /content/gdrive/MyDrive/DPED-master/DPED-master/vgg_pretrained/imagenet-vgg-verydeep-19.mat\n",
            "Evaluation step: 1000\n",
            "\n",
            "2021-01-20 11:45:18.517705: I tensorflow/compiler/jit/xla_cpu_device.cc:41] Not creating XLA devices, tf_xla_enable_xla_devices not set\n",
            "2021-01-20 11:45:18.519226: I tensorflow/stream_executor/platform/default/dso_loader.cc:49] Successfully opened dynamic library libcuda.so.1\n",
            "2021-01-20 11:45:18.556005: I tensorflow/stream_executor/cuda/cuda_gpu_executor.cc:941] successful NUMA node read from SysFS had negative value (-1), but there must be at least one NUMA node, so returning NUMA node zero\n",
            "2021-01-20 11:45:18.556595: I tensorflow/core/common_runtime/gpu/gpu_device.cc:1720] Found device 0 with properties: \n",
            "pciBusID: 0000:00:04.0 name: Tesla T4 computeCapability: 7.5\n",
            "coreClock: 1.59GHz coreCount: 40 deviceMemorySize: 14.73GiB deviceMemoryBandwidth: 298.08GiB/s\n",
            "2021-01-20 11:45:18.556636: I tensorflow/stream_executor/platform/default/dso_loader.cc:49] Successfully opened dynamic library libcudart.so.10.1\n",
            "2021-01-20 11:45:18.558795: I tensorflow/stream_executor/platform/default/dso_loader.cc:49] Successfully opened dynamic library libcublas.so.10\n",
            "2021-01-20 11:45:18.558875: I tensorflow/stream_executor/platform/default/dso_loader.cc:49] Successfully opened dynamic library libcublasLt.so.10\n",
            "2021-01-20 11:45:18.560965: I tensorflow/stream_executor/platform/default/dso_loader.cc:49] Successfully opened dynamic library libcufft.so.10\n",
            "2021-01-20 11:45:18.561630: I tensorflow/stream_executor/platform/default/dso_loader.cc:49] Successfully opened dynamic library libcurand.so.10\n",
            "2021-01-20 11:45:18.563722: I tensorflow/stream_executor/platform/default/dso_loader.cc:49] Successfully opened dynamic library libcusolver.so.10\n",
            "2021-01-20 11:45:18.565082: I tensorflow/stream_executor/platform/default/dso_loader.cc:49] Successfully opened dynamic library libcusparse.so.10\n",
            "2021-01-20 11:45:18.569364: I tensorflow/stream_executor/platform/default/dso_loader.cc:49] Successfully opened dynamic library libcudnn.so.7\n",
            "2021-01-20 11:45:18.569490: I tensorflow/stream_executor/cuda/cuda_gpu_executor.cc:941] successful NUMA node read from SysFS had negative value (-1), but there must be at least one NUMA node, so returning NUMA node zero\n",
            "2021-01-20 11:45:18.570061: I tensorflow/stream_executor/cuda/cuda_gpu_executor.cc:941] successful NUMA node read from SysFS had negative value (-1), but there must be at least one NUMA node, so returning NUMA node zero\n",
            "2021-01-20 11:45:18.570564: I tensorflow/core/common_runtime/gpu/gpu_device.cc:1862] Adding visible gpu devices: 0\n",
            "2021-01-20 11:45:18.571091: I tensorflow/compiler/jit/xla_gpu_device.cc:99] Not creating XLA devices, tf_xla_enable_xla_devices not set\n",
            "2021-01-20 11:45:18.571207: I tensorflow/stream_executor/cuda/cuda_gpu_executor.cc:941] successful NUMA node read from SysFS had negative value (-1), but there must be at least one NUMA node, so returning NUMA node zero\n",
            "2021-01-20 11:45:18.571725: I tensorflow/core/common_runtime/gpu/gpu_device.cc:1720] Found device 0 with properties: \n",
            "pciBusID: 0000:00:04.0 name: Tesla T4 computeCapability: 7.5\n",
            "coreClock: 1.59GHz coreCount: 40 deviceMemorySize: 14.73GiB deviceMemoryBandwidth: 298.08GiB/s\n",
            "2021-01-20 11:45:18.571753: I tensorflow/stream_executor/platform/default/dso_loader.cc:49] Successfully opened dynamic library libcudart.so.10.1\n",
            "2021-01-20 11:45:18.571793: I tensorflow/stream_executor/platform/default/dso_loader.cc:49] Successfully opened dynamic library libcublas.so.10\n",
            "2021-01-20 11:45:18.571815: I tensorflow/stream_executor/platform/default/dso_loader.cc:49] Successfully opened dynamic library libcublasLt.so.10\n",
            "2021-01-20 11:45:18.571836: I tensorflow/stream_executor/platform/default/dso_loader.cc:49] Successfully opened dynamic library libcufft.so.10\n",
            "2021-01-20 11:45:18.571854: I tensorflow/stream_executor/platform/default/dso_loader.cc:49] Successfully opened dynamic library libcurand.so.10\n",
            "2021-01-20 11:45:18.571876: I tensorflow/stream_executor/platform/default/dso_loader.cc:49] Successfully opened dynamic library libcusolver.so.10\n",
            "2021-01-20 11:45:18.571894: I tensorflow/stream_executor/platform/default/dso_loader.cc:49] Successfully opened dynamic library libcusparse.so.10\n",
            "2021-01-20 11:45:18.571915: I tensorflow/stream_executor/platform/default/dso_loader.cc:49] Successfully opened dynamic library libcudnn.so.7\n",
            "2021-01-20 11:45:18.571979: I tensorflow/stream_executor/cuda/cuda_gpu_executor.cc:941] successful NUMA node read from SysFS had negative value (-1), but there must be at least one NUMA node, so returning NUMA node zero\n",
            "2021-01-20 11:45:18.572548: I tensorflow/stream_executor/cuda/cuda_gpu_executor.cc:941] successful NUMA node read from SysFS had negative value (-1), but there must be at least one NUMA node, so returning NUMA node zero\n",
            "2021-01-20 11:45:18.573034: I tensorflow/core/common_runtime/gpu/gpu_device.cc:1862] Adding visible gpu devices: 0\n",
            "2021-01-20 11:45:18.573074: I tensorflow/stream_executor/platform/default/dso_loader.cc:49] Successfully opened dynamic library libcudart.so.10.1\n",
            "2021-01-20 11:45:19.295391: I tensorflow/core/common_runtime/gpu/gpu_device.cc:1261] Device interconnect StreamExecutor with strength 1 edge matrix:\n",
            "2021-01-20 11:45:19.295444: I tensorflow/core/common_runtime/gpu/gpu_device.cc:1267]      0 \n",
            "2021-01-20 11:45:19.295463: I tensorflow/core/common_runtime/gpu/gpu_device.cc:1280] 0:   N \n",
            "2021-01-20 11:45:19.295667: I tensorflow/stream_executor/cuda/cuda_gpu_executor.cc:941] successful NUMA node read from SysFS had negative value (-1), but there must be at least one NUMA node, so returning NUMA node zero\n",
            "2021-01-20 11:45:19.296259: I tensorflow/stream_executor/cuda/cuda_gpu_executor.cc:941] successful NUMA node read from SysFS had negative value (-1), but there must be at least one NUMA node, so returning NUMA node zero\n",
            "2021-01-20 11:45:19.296823: I tensorflow/stream_executor/cuda/cuda_gpu_executor.cc:941] successful NUMA node read from SysFS had negative value (-1), but there must be at least one NUMA node, so returning NUMA node zero\n",
            "2021-01-20 11:45:19.297310: W tensorflow/core/common_runtime/gpu/gpu_bfc_allocator.cc:39] Overriding allow_growth setting because the TF_FORCE_GPU_ALLOW_GROWTH environment variable is set. Original config value was 0.\n",
            "2021-01-20 11:45:19.297358: I tensorflow/core/common_runtime/gpu/gpu_device.cc:1406] Created TensorFlow device (/job:localhost/replica:0/task:0/device:GPU:0 with 13960 MB memory) -> physical GPU (device: 0, name: Tesla T4, pci bus id: 0000:00:04.0, compute capability: 7.5)\n",
            "Initializing variables\n",
            "2021-01-20 11:45:23.916540: I tensorflow/compiler/mlir/mlir_graph_optimization_pass.cc:196] None of the MLIR optimization passes are enabled (registered 0 passes)\n",
            "2021-01-20 11:45:23.958811: I tensorflow/core/platform/profile_utils/cpu_utils.cc:112] CPU Frequency: 2199995000 Hz\n",
            "Loading test data...\n",
            "Test data was loaded\n",
            "\n",
            "Loading training data...\n",
            "tcmalloc: large alloc 2404564992 bytes == 0x5191a000 @  0x7fdd4fb95001 0x7fdd2810f4ff 0x7fdd2815fb08 0x7fdd28163ac7 0x7fdd282021a3 0x50a4a5 0x50beb4 0x507be4 0x509900 0x50a2fd 0x50beb4 0x507be4 0x50ad03 0x634e72 0x634f27 0x6386df 0x639281 0x4b0dc0 0x7fdd4f790bf7 0x5b259a\n",
            "tcmalloc: large alloc 2404564992 bytes == 0xe0e46000 @  0x7fdd4fb95001 0x7fdd2810f4ff 0x7fdd2815fb08 0x7fdd28163ac7 0x7fdd282021a3 0x50a4a5 0x50beb4 0x507be4 0x509900 0x50a2fd 0x50beb4 0x507be4 0x50ad03 0x634e72 0x634f27 0x6386df 0x639281 0x4b0dc0 0x7fdd4f790bf7 0x5b259a\n",
            "Training data was loaded\n",
            "\n",
            "Training network\n",
            "2021-01-20 11:46:15.751427: I tensorflow/stream_executor/platform/default/dso_loader.cc:49] Successfully opened dynamic library libcublas.so.10\n",
            "2021-01-20 11:46:16.043415: I tensorflow/stream_executor/platform/default/dso_loader.cc:49] Successfully opened dynamic library libcudnn.so.7\n",
            "step 0, iphone | discriminator accuracy | train: 0.0008, test: 0.54\n",
            "generator losses | train: 0.82, test: 759.4 | content: 38.56, color: 964.3, texture: -108.5, tv: 6.116e-05 | psnr: 10.24, ms-ssim: 0.2786\n",
            "\n",
            "WARNING:root:Lossy conversion from float64 to uint8. Range [0, 1]. Convert image to uint8 prior to saving to suppress this warning.\n",
            "WARNING:root:Lossy conversion from float64 to uint8. Range [0, 1]. Convert image to uint8 prior to saving to suppress this warning.\n",
            "WARNING:root:Lossy conversion from float64 to uint8. Range [0, 1]. Convert image to uint8 prior to saving to suppress this warning.\n",
            "WARNING:root:Lossy conversion from float64 to uint8. Range [0, 1]. Convert image to uint8 prior to saving to suppress this warning.\n",
            "WARNING:root:Lossy conversion from float64 to uint8. Range [0, 1]. Convert image to uint8 prior to saving to suppress this warning.\n",
            "tcmalloc: large alloc 2404564992 bytes == 0x5191a000 @  0x7fdd4fb95001 0x7fdd2810f4ff 0x7fdd2815fb08 0x7fdd28163ac7 0x7fdd282021a3 0x50a4a5 0x50beb4 0x507be4 0x509900 0x50a2fd 0x50beb4 0x507be4 0x50ad03 0x634e72 0x634f27 0x6386df 0x639281 0x4b0dc0 0x7fdd4f790bf7 0x5b259a\n",
            "tcmalloc: large alloc 2404564992 bytes == 0xe0e46000 @  0x7fdd4fb95001 0x7fdd2810f4ff 0x7fdd2815fb08 0x7fdd28163ac7 0x7fdd282021a3 0x50a4a5 0x50beb4 0x507be4 0x509900 0x50a2fd 0x50beb4 0x507be4 0x50ad03 0x634e72 0x634f27 0x6386df 0x639281 0x4b0dc0 0x7fdd4f790bf7 0x5b259a\n",
            "step 1000, iphone | discriminator accuracy | train: 0.5117, test: 0.4867\n",
            "generator losses | train: 199.8, test: 170.7 | content: 13.8, color: 107.3, texture: -35.29, tv: 0.007193 | psnr: 18.28, ms-ssim: 0.9022\n",
            "\n",
            "WARNING:root:Lossy conversion from float64 to uint8. Range [-0.013178408145904541, 0.7247048020362854]. Convert image to uint8 prior to saving to suppress this warning.\n",
            "WARNING:root:Lossy conversion from float64 to uint8. Range [0, 1]. Convert image to uint8 prior to saving to suppress this warning.\n",
            "WARNING:root:Lossy conversion from float64 to uint8. Range [0, 1]. Convert image to uint8 prior to saving to suppress this warning.\n",
            "WARNING:root:Lossy conversion from float64 to uint8. Range [0.1038123369216919, 1.0483174324035645]. Convert image to uint8 prior to saving to suppress this warning.\n",
            "WARNING:root:Lossy conversion from float64 to uint8. Range [-0.00545501708984375, 1.0054569244384766]. Convert image to uint8 prior to saving to suppress this warning.\n",
            "tcmalloc: large alloc 2404564992 bytes == 0x5191a000 @  0x7fdd4fb95001 0x7fdd2810f4ff 0x7fdd2815fb08 0x7fdd28163ac7 0x7fdd282021a3 0x50a4a5 0x50beb4 0x507be4 0x509900 0x50a2fd 0x50beb4 0x507be4 0x50ad03 0x634e72 0x634f27 0x6386df 0x639281 0x4b0dc0 0x7fdd4f790bf7 0x5b259a\n",
            "tcmalloc: large alloc 2404564992 bytes == 0xe0e46000 @  0x7fdd4fb95001 0x7fdd2810f4ff 0x7fdd2815fb08 0x7fdd28163ac7 0x7fdd282021a3 0x50a4a5 0x50beb4 0x507be4 0x509900 0x50a2fd 0x50beb4 0x507be4 0x50ad03 0x634e72 0x634f27 0x6386df 0x639281 0x4b0dc0 0x7fdd4f790bf7 0x5b259a\n",
            "step 2000, iphone | discriminator accuracy | train: 0.5176, test: 0.54\n",
            "generator losses | train: 82.54, test: 164.8 | content: 12.86, color: 110.7, texture: -35.15, tv: 0.00802 | psnr: 18.29, ms-ssim: 0.9059\n",
            "\n",
            "WARNING:root:Lossy conversion from float64 to uint8. Range [-0.023524105548858643, 0.8220479488372803]. Convert image to uint8 prior to saving to suppress this warning.\n",
            "WARNING:root:Lossy conversion from float64 to uint8. Range [-0.007759988307952881, 0.8250410556793213]. Convert image to uint8 prior to saving to suppress this warning.\n",
            "WARNING:root:Lossy conversion from float64 to uint8. Range [-0.036948561668395996, 0.9025548100471497]. Convert image to uint8 prior to saving to suppress this warning.\n",
            "WARNING:root:Lossy conversion from float64 to uint8. Range [0.06913262605667114, 1.0504894256591797]. Convert image to uint8 prior to saving to suppress this warning.\n",
            "WARNING:root:Lossy conversion from float64 to uint8. Range [-0.013142228126525879, 1.0284309387207031]. Convert image to uint8 prior to saving to suppress this warning.\n",
            "tcmalloc: large alloc 2404564992 bytes == 0x5191a000 @  0x7fdd4fb95001 0x7fdd2810f4ff 0x7fdd2815fb08 0x7fdd28163ac7 0x7fdd282021a3 0x50a4a5 0x50beb4 0x507be4 0x509900 0x50a2fd 0x50beb4 0x507be4 0x50ad03 0x634e72 0x634f27 0x6386df 0x639281 0x4b0dc0 0x7fdd4f790bf7 0x5b259a\n",
            "step 3000, iphone | discriminator accuracy | train: 0.5363, test: 0.5267\n",
            "generator losses | train: 48.37, test: 169 | content: 13.03, color: 115.9, texture: -36.25, tv: 0.008505 | psnr: 18.11, ms-ssim: 0.9035\n",
            "\n",
            "WARNING:root:Lossy conversion from float64 to uint8. Range [-0.012747764587402344, 0.752272367477417]. Convert image to uint8 prior to saving to suppress this warning.\n",
            "WARNING:root:Lossy conversion from float64 to uint8. Range [-0.002677023410797119, 0.8559775352478027]. Convert image to uint8 prior to saving to suppress this warning.\n",
            "WARNING:root:Lossy conversion from float64 to uint8. Range [-0.013326883316040039, 0.8895363807678223]. Convert image to uint8 prior to saving to suppress this warning.\n",
            "WARNING:root:Lossy conversion from float64 to uint8. Range [0.07723122835159302, 1.0583364963531494]. Convert image to uint8 prior to saving to suppress this warning.\n",
            "WARNING:root:Lossy conversion from float64 to uint8. Range [-0.0024538636207580566, 1.0290586948394775]. Convert image to uint8 prior to saving to suppress this warning.\n",
            "step 4000, iphone | discriminator accuracy | train: 0.6808, test: 0.5867\n",
            "generator losses | train: 45.58, test: 164.9 | content: 13.4, color: 111.9, texture: -43.23, tv: 0.009127 | psnr: 18.1, ms-ssim: 0.9017\n",
            "\n",
            "WARNING:root:Lossy conversion from float64 to uint8. Range [-0.057470083236694336, 0.8867046236991882]. Convert image to uint8 prior to saving to suppress this warning.\n",
            "WARNING:root:Lossy conversion from float64 to uint8. Range [-0.00786679983139038, 0.8544359803199768]. Convert image to uint8 prior to saving to suppress this warning.\n",
            "WARNING:root:Lossy conversion from float64 to uint8. Range [-0.020102262496948242, 0.9399210214614868]. Convert image to uint8 prior to saving to suppress this warning.\n",
            "WARNING:root:Lossy conversion from float64 to uint8. Range [0.036018818616867065, 1.049899935722351]. Convert image to uint8 prior to saving to suppress this warning.\n",
            "WARNING:root:Lossy conversion from float64 to uint8. Range [-0.005362570285797119, 1.0595420598983765]. Convert image to uint8 prior to saving to suppress this warning.\n",
            "step 5000, iphone | discriminator accuracy | train: 0.8289, test: 0.52\n",
            "generator losses | train: 59.91, test: 132.5 | content: 13.45, color: 112.8, texture: -77.55, tv: 0.009595 | psnr: 18.05, ms-ssim: 0.9005\n",
            "\n",
            "WARNING:root:Lossy conversion from float64 to uint8. Range [-0.03161966800689697, 0.8874422311782837]. Convert image to uint8 prior to saving to suppress this warning.\n",
            "WARNING:root:Lossy conversion from float64 to uint8. Range [-0.004164755344390869, 0.8617114424705505]. Convert image to uint8 prior to saving to suppress this warning.\n",
            "WARNING:root:Lossy conversion from float64 to uint8. Range [-0.009973287582397461, 0.903270959854126]. Convert image to uint8 prior to saving to suppress this warning.\n",
            "WARNING:root:Lossy conversion from float64 to uint8. Range [0.049590855836868286, 1.049043893814087]. Convert image to uint8 prior to saving to suppress this warning.\n",
            "WARNING:root:Lossy conversion from float64 to uint8. Range [-0.008666455745697021, 1.041532039642334]. Convert image to uint8 prior to saving to suppress this warning.\n",
            "step 6000, iphone | discriminator accuracy | train: 0.9019, test: 0.46\n",
            "generator losses | train: 61.14, test: 102.2 | content: 12.99, color: 116.2, texture: -105.2, tv: 0.009738 | psnr: 17.98, ms-ssim: 0.9004\n",
            "\n",
            "WARNING:root:Lossy conversion from float64 to uint8. Range [-0.051593780517578125, 0.8330955505371094]. Convert image to uint8 prior to saving to suppress this warning.\n",
            "WARNING:root:Lossy conversion from float64 to uint8. Range [-0.0078086256980896, 0.846932590007782]. Convert image to uint8 prior to saving to suppress this warning.\n",
            "WARNING:root:Lossy conversion from float64 to uint8. Range [-0.02106630802154541, 0.9731848835945129]. Convert image to uint8 prior to saving to suppress this warning.\n",
            "WARNING:root:Lossy conversion from float64 to uint8. Range [0.05625796318054199, 1.0490775108337402]. Convert image to uint8 prior to saving to suppress this warning.\n",
            "WARNING:root:Lossy conversion from float64 to uint8. Range [-0.027718663215637207, 1.0390913486480713]. Convert image to uint8 prior to saving to suppress this warning.\n",
            "step 7000, iphone | discriminator accuracy | train: 0.9217, test: 0.52\n",
            "generator losses | train: 57.23, test: 106.6 | content: 13.59, color: 127.6, texture: -111.5, tv: 0.009224 | psnr: 17.74, ms-ssim: 0.9004\n",
            "\n",
            "WARNING:root:Lossy conversion from float64 to uint8. Range [-0.05335128307342529, 0.9036319255828857]. Convert image to uint8 prior to saving to suppress this warning.\n",
            "WARNING:root:Lossy conversion from float64 to uint8. Range [-0.008276939392089844, 0.8765965700149536]. Convert image to uint8 prior to saving to suppress this warning.\n",
            "WARNING:root:Lossy conversion from float64 to uint8. Range [0, 1]. Convert image to uint8 prior to saving to suppress this warning.\n",
            "WARNING:root:Lossy conversion from float64 to uint8. Range [0.08480969071388245, 1.0551334619522095]. Convert image to uint8 prior to saving to suppress this warning.\n",
            "WARNING:root:Lossy conversion from float64 to uint8. Range [-0.0068471431732177734, 1.0401780605316162]. Convert image to uint8 prior to saving to suppress this warning.\n",
            "step 8000, iphone | discriminator accuracy | train: 0.928, test: 0.52\n",
            "generator losses | train: 54.17, test: 92.96 | content: 13.61, color: 116.8, texture: -122, tv: 0.01018 | psnr: 17.94, ms-ssim: 0.9006\n",
            "\n",
            "WARNING:root:Lossy conversion from float64 to uint8. Range [-0.046958208084106445, 0.9081113934516907]. Convert image to uint8 prior to saving to suppress this warning.\n",
            "WARNING:root:Lossy conversion from float64 to uint8. Range [-0.020316004753112793, 0.8906097412109375]. Convert image to uint8 prior to saving to suppress this warning.\n",
            "WARNING:root:Lossy conversion from float64 to uint8. Range [-0.022687435150146484, 0.9488784074783325]. Convert image to uint8 prior to saving to suppress this warning.\n",
            "WARNING:root:Lossy conversion from float64 to uint8. Range [0.023484885692596436, 1.050318717956543]. Convert image to uint8 prior to saving to suppress this warning.\n",
            "WARNING:root:Lossy conversion from float64 to uint8. Range [-0.013484358787536621, 1.0502736568450928]. Convert image to uint8 prior to saving to suppress this warning.\n",
            "step 9000, iphone | discriminator accuracy | train: 0.944, test: 0.52\n",
            "generator losses | train: 52.52, test: 101.7 | content: 13.42, color: 113.1, texture: -106.6, tv: 0.008786 | psnr: 18.05, ms-ssim: 0.9014\n",
            "\n",
            "WARNING:root:Lossy conversion from float64 to uint8. Range [-0.05464977025985718, 0.8549870252609253]. Convert image to uint8 prior to saving to suppress this warning.\n",
            "WARNING:root:Lossy conversion from float64 to uint8. Range [0, 1]. Convert image to uint8 prior to saving to suppress this warning.\n",
            "WARNING:root:Lossy conversion from float64 to uint8. Range [-0.014782428741455078, 0.9143078327178955]. Convert image to uint8 prior to saving to suppress this warning.\n",
            "WARNING:root:Lossy conversion from float64 to uint8. Range [0.06373047828674316, 1.0458130836486816]. Convert image to uint8 prior to saving to suppress this warning.\n",
            "WARNING:root:Lossy conversion from float64 to uint8. Range [0.0009137392044067383, 1.0275015830993652]. Convert image to uint8 prior to saving to suppress this warning.\n",
            "step 10000, iphone | discriminator accuracy | train: 0.9437, test: 0.5133\n",
            "generator losses | train: 49.78, test: 105.2 | content: 13.59, color: 112.6, texture: -105.9, tv: 0.00948 | psnr: 18.07, ms-ssim: 0.902\n",
            "\n",
            "WARNING:root:Lossy conversion from float64 to uint8. Range [-0.05200988054275513, 0.826845645904541]. Convert image to uint8 prior to saving to suppress this warning.\n",
            "WARNING:root:Lossy conversion from float64 to uint8. Range [-0.00277024507522583, 0.8368439674377441]. Convert image to uint8 prior to saving to suppress this warning.\n",
            "WARNING:root:Lossy conversion from float64 to uint8. Range [-0.012426614761352539, 0.9336039423942566]. Convert image to uint8 prior to saving to suppress this warning.\n",
            "WARNING:root:Lossy conversion from float64 to uint8. Range [0.02819952368736267, 1.0473108291625977]. Convert image to uint8 prior to saving to suppress this warning.\n",
            "WARNING:root:Lossy conversion from float64 to uint8. Range [0.00426068902015686, 1.0293409824371338]. Convert image to uint8 prior to saving to suppress this warning.\n",
            "step 11000, iphone | discriminator accuracy | train: 0.9537, test: 0.5067\n",
            "generator losses | train: 47.63, test: 95.95 | content: 13.68, color: 114.8, texture: -116, tv: 0.008896 | psnr: 18.02, ms-ssim: 0.9019\n",
            "\n",
            "WARNING:root:Lossy conversion from float64 to uint8. Range [-0.04208630323410034, 0.9640117883682251]. Convert image to uint8 prior to saving to suppress this warning.\n",
            "WARNING:root:Lossy conversion from float64 to uint8. Range [-0.014225244522094727, 0.8813604712486267]. Convert image to uint8 prior to saving to suppress this warning.\n",
            "WARNING:root:Lossy conversion from float64 to uint8. Range [-0.0023335814476013184, 0.9220888614654541]. Convert image to uint8 prior to saving to suppress this warning.\n",
            "WARNING:root:Lossy conversion from float64 to uint8. Range [0.06634560227394104, 1.0484685897827148]. Convert image to uint8 prior to saving to suppress this warning.\n",
            "WARNING:root:Lossy conversion from float64 to uint8. Range [-0.01872718334197998, 1.0417498350143433]. Convert image to uint8 prior to saving to suppress this warning.\n",
            "step 12000, iphone | discriminator accuracy | train: 0.9542, test: 0.48\n",
            "generator losses | train: 45.68, test: 107.6 | content: 13.47, color: 108.3, texture: -99.12, tv: 0.008978 | psnr: 18.16, ms-ssim: 0.902\n",
            "\n",
            "WARNING:root:Lossy conversion from float64 to uint8. Range [-0.03991091251373291, 0.9635798931121826]. Convert image to uint8 prior to saving to suppress this warning.\n",
            "WARNING:root:Lossy conversion from float64 to uint8. Range [-0.017515897750854492, 0.8471561670303345]. Convert image to uint8 prior to saving to suppress this warning.\n",
            "WARNING:root:Lossy conversion from float64 to uint8. Range [-0.02797400951385498, 0.9372934699058533]. Convert image to uint8 prior to saving to suppress this warning.\n",
            "WARNING:root:Lossy conversion from float64 to uint8. Range [0.0730457603931427, 1.0420663356781006]. Convert image to uint8 prior to saving to suppress this warning.\n",
            "WARNING:root:Lossy conversion from float64 to uint8. Range [-0.01493072509765625, 1.0458877086639404]. Convert image to uint8 prior to saving to suppress this warning.\n",
            "step 13000, iphone | discriminator accuracy | train: 0.9589, test: 0.56\n",
            "generator losses | train: 44.71, test: 108.1 | content: 13.66, color: 111.1, texture: -101.5, tv: 0.008682 | psnr: 18.1, ms-ssim: 0.9018\n",
            "\n",
            "WARNING:root:Lossy conversion from float64 to uint8. Range [-0.040304720401763916, 0.9563354253768921]. Convert image to uint8 prior to saving to suppress this warning.\n",
            "WARNING:root:Lossy conversion from float64 to uint8. Range [-0.021916091442108154, 0.8900175094604492]. Convert image to uint8 prior to saving to suppress this warning.\n",
            "WARNING:root:Lossy conversion from float64 to uint8. Range [-0.026406407356262207, 0.9349683523178101]. Convert image to uint8 prior to saving to suppress this warning.\n",
            "WARNING:root:Lossy conversion from float64 to uint8. Range [0.06361120939254761, 1.0613744258880615]. Convert image to uint8 prior to saving to suppress this warning.\n",
            "WARNING:root:Lossy conversion from float64 to uint8. Range [-0.012204647064208984, 1.0352553129196167]. Convert image to uint8 prior to saving to suppress this warning.\n",
            "step 14000, iphone | discriminator accuracy | train: 0.9614, test: 0.56\n",
            "generator losses | train: 43.65, test: 89.07 | content: 13.87, color: 109.1, texture: -121.6, tv: 0.008721 | psnr: 18.14, ms-ssim: 0.9012\n",
            "\n",
            "WARNING:root:Lossy conversion from float64 to uint8. Range [-0.03856861591339111, 0.959253191947937]. Convert image to uint8 prior to saving to suppress this warning.\n",
            "WARNING:root:Lossy conversion from float64 to uint8. Range [-0.009307265281677246, 0.9052708745002747]. Convert image to uint8 prior to saving to suppress this warning.\n",
            "WARNING:root:Lossy conversion from float64 to uint8. Range [-0.008438467979431152, 0.9017550945281982]. Convert image to uint8 prior to saving to suppress this warning.\n",
            "WARNING:root:Lossy conversion from float64 to uint8. Range [0.053724974393844604, 1.055518627166748]. Convert image to uint8 prior to saving to suppress this warning.\n",
            "WARNING:root:Lossy conversion from float64 to uint8. Range [0.009940624237060547, 1.0413482189178467]. Convert image to uint8 prior to saving to suppress this warning.\n",
            "step 15000, iphone | discriminator accuracy | train: 0.9617, test: 0.56\n",
            "generator losses | train: 41.51, test: 123.4 | content: 14.24, color: 115.2, texture: -93.29, tv: 0.008342 | psnr: 18, ms-ssim: 0.9004\n",
            "\n",
            "WARNING:root:Lossy conversion from float64 to uint8. Range [-0.04377949237823486, 0.9888225793838501]. Convert image to uint8 prior to saving to suppress this warning.\n",
            "WARNING:root:Lossy conversion from float64 to uint8. Range [-0.0003846287727355957, 0.8975609540939331]. Convert image to uint8 prior to saving to suppress this warning.\n",
            "WARNING:root:Lossy conversion from float64 to uint8. Range [-0.047098517417907715, 0.9394218921661377]. Convert image to uint8 prior to saving to suppress this warning.\n",
            "WARNING:root:Lossy conversion from float64 to uint8. Range [0.060383617877960205, 1.0607647895812988]. Convert image to uint8 prior to saving to suppress this warning.\n",
            "WARNING:root:Lossy conversion from float64 to uint8. Range [0.007705628871917725, 1.0414549112319946]. Convert image to uint8 prior to saving to suppress this warning.\n",
            "step 16000, iphone | discriminator accuracy | train: 0.9684, test: 0.64\n",
            "generator losses | train: 40.11, test: 137 | content: 13.74, color: 109.7, texture: -71.46, tv: 0.008104 | psnr: 18.14, ms-ssim: 0.9016\n",
            "\n",
            "WARNING:root:Lossy conversion from float64 to uint8. Range [-0.055201590061187744, 0.9930384755134583]. Convert image to uint8 prior to saving to suppress this warning.\n",
            "WARNING:root:Lossy conversion from float64 to uint8. Range [-0.006983339786529541, 0.8892989158630371]. Convert image to uint8 prior to saving to suppress this warning.\n",
            "WARNING:root:Lossy conversion from float64 to uint8. Range [-0.015079200267791748, 0.9223111867904663]. Convert image to uint8 prior to saving to suppress this warning.\n",
            "WARNING:root:Lossy conversion from float64 to uint8. Range [0.035418421030044556, 1.0597782135009766]. Convert image to uint8 prior to saving to suppress this warning.\n",
            "WARNING:root:Lossy conversion from float64 to uint8. Range [0.0056133270263671875, 1.0298945903778076]. Convert image to uint8 prior to saving to suppress this warning.\n",
            "step 17000, iphone | discriminator accuracy | train: 0.9685, test: 0.6067\n",
            "generator losses | train: 39.23, test: 132.6 | content: 14.08, color: 123.6, texture: -86.58, tv: 0.008271 | psnr: 17.83, ms-ssim: 0.9003\n",
            "\n",
            "WARNING:root:Lossy conversion from float64 to uint8. Range [-0.040978968143463135, 0.9534982442855835]. Convert image to uint8 prior to saving to suppress this warning.\n",
            "WARNING:root:Lossy conversion from float64 to uint8. Range [0, 1]. Convert image to uint8 prior to saving to suppress this warning.\n",
            "WARNING:root:Lossy conversion from float64 to uint8. Range [0, 1]. Convert image to uint8 prior to saving to suppress this warning.\n",
            "WARNING:root:Lossy conversion from float64 to uint8. Range [0.07224684953689575, 1.0518932342529297]. Convert image to uint8 prior to saving to suppress this warning.\n",
            "WARNING:root:Lossy conversion from float64 to uint8. Range [0.005119264125823975, 1.0613532066345215]. Convert image to uint8 prior to saving to suppress this warning.\n",
            "step 18000, iphone | discriminator accuracy | train: 0.9717, test: 0.5867\n",
            "generator losses | train: 38.36, test: 120.9 | content: 13.62, color: 108, texture: -85.32, tv: 0.008022 | psnr: 18.18, ms-ssim: 0.9021\n",
            "\n",
            "WARNING:root:Lossy conversion from float64 to uint8. Range [-0.053562939167022705, 0.9515824317932129]. Convert image to uint8 prior to saving to suppress this warning.\n",
            "WARNING:root:Lossy conversion from float64 to uint8. Range [-0.005017995834350586, 0.8950599431991577]. Convert image to uint8 prior to saving to suppress this warning.\n",
            "WARNING:root:Lossy conversion from float64 to uint8. Range [-0.012208819389343262, 0.8902130126953125]. Convert image to uint8 prior to saving to suppress this warning.\n",
            "WARNING:root:Lossy conversion from float64 to uint8. Range [0.017863154411315918, 1.0530331134796143]. Convert image to uint8 prior to saving to suppress this warning.\n",
            "WARNING:root:Lossy conversion from float64 to uint8. Range [-0.005422651767730713, 1.0394823551177979]. Convert image to uint8 prior to saving to suppress this warning.\n",
            "step 19000, iphone | discriminator accuracy | train: 0.9749, test: 0.6333\n",
            "generator losses | train: 37.35, test: 126.7 | content: 13.83, color: 118.2, texture: -86.19, tv: 0.007723 | psnr: 17.95, ms-ssim: 0.901\n",
            "\n",
            "WARNING:root:Lossy conversion from float64 to uint8. Range [-0.0349155068397522, 0.9598564505577087]. Convert image to uint8 prior to saving to suppress this warning.\n",
            "WARNING:root:Lossy conversion from float64 to uint8. Range [0, 1]. Convert image to uint8 prior to saving to suppress this warning.\n",
            "WARNING:root:Lossy conversion from float64 to uint8. Range [-0.021078288555145264, 0.8823171854019165]. Convert image to uint8 prior to saving to suppress this warning.\n",
            "WARNING:root:Lossy conversion from float64 to uint8. Range [0.06391087174415588, 1.0540926456451416]. Convert image to uint8 prior to saving to suppress this warning.\n",
            "WARNING:root:Lossy conversion from float64 to uint8. Range [0.018598318099975586, 1.041367530822754]. Convert image to uint8 prior to saving to suppress this warning.\n"
          ],
          "name": "stdout"
        }
      ]
    },
    {
      "cell_type": "code",
      "metadata": {
        "id": "Q9OpJO8TD3ZH",
        "outputId": "09c0c863-0073-48d1-83ce-dd3eb78332fd",
        "colab": {
          "base_uri": "https://localhost:8080/"
        }
      },
      "source": [
        "!python vgg.py"
      ],
      "execution_count": 10,
      "outputs": [
        {
          "output_type": "stream",
          "text": [
            "2021-01-22 17:24:42.893564: I tensorflow/stream_executor/platform/default/dso_loader.cc:49] Successfully opened dynamic library libcudart.so.10.1\n"
          ],
          "name": "stdout"
        }
      ]
    },
    {
      "cell_type": "code",
      "metadata": {
        "id": "x_mqL01fGpVR"
      },
      "source": [
        "import vgg"
      ],
      "execution_count": 13,
      "outputs": []
    },
    {
      "cell_type": "code",
      "metadata": {
        "id": "eoCTAuXvNgrm"
      },
      "source": [
        "image = cv2.imread('/content/gdrive/MyDrive/huawei_100/huawei_100_train/0.jpg')\r\n",
        "shape = image.shape\r\n",
        "x = np.expand_dims(image,1)"
      ],
      "execution_count": 29,
      "outputs": []
    },
    {
      "cell_type": "code",
      "metadata": {
        "id": "sv29CGHZKvFz"
      },
      "source": [
        "model = vgg.net('/content/gdrive/MyDrive/DPED-master/DPED-master/vgg_pretrained/imagenet-vgg-verydeep-19.mat', x)"
      ],
      "execution_count": 30,
      "outputs": []
    }
  ]
}