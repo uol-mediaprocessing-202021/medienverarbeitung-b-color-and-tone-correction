{
  "nbformat": 4,
  "nbformat_minor": 0,
  "metadata": {
    "colab": {
      "name": "Kopie von ML_1.ipynb",
      "provenance": [],
      "include_colab_link": true
    },
    "kernelspec": {
      "name": "python3",
      "display_name": "Python 3"
    },
    "accelerator": "GPU"
  },
  "cells": [
    {
      "cell_type": "markdown",
      "metadata": {
        "id": "view-in-github",
        "colab_type": "text"
      },
      "source": [
        "<a href=\"https://colab.research.google.com/github/uol-mediaprocessing-202021/medienverarbeitung-b-color-and-tone-correction/blob/develop/Kopie_von_ML_1.ipynb\" target=\"_parent\"><img src=\"https://colab.research.google.com/assets/colab-badge.svg\" alt=\"Open In Colab\"/></a>"
      ]
    },
    {
      "cell_type": "markdown",
      "metadata": {
        "id": "Pa-go_771GRR"
      },
      "source": [
        "# Machine Learning"
      ]
    },
    {
      "cell_type": "code",
      "metadata": {
        "id": "TCBIFYnxabrN"
      },
      "source": [
        "import tensorflow as tf\r\n",
        "import keras\r\n",
        "import numpy as np\r\n",
        "import cv2\r\n",
        "import matplotlib.pyplot as plt\r\n",
        "import sys"
      ],
      "execution_count": null,
      "outputs": []
    },
    {
      "cell_type": "markdown",
      "metadata": {
        "id": "t7Mhr0BJ2MjP"
      },
      "source": [
        "accessing files on Google Drive"
      ]
    },
    {
      "cell_type": "code",
      "metadata": {
        "colab": {
          "base_uri": "https://localhost:8080/"
        },
        "id": "w1JHXZT6cchT",
        "outputId": "af55e9b3-2616-4ca2-a205-ba6d7f9a484e"
      },
      "source": [
        "from google.colab import drive\r\n",
        "drive.mount(\"/content/gdrive\")"
      ],
      "execution_count": null,
      "outputs": [
        {
          "output_type": "stream",
          "text": [
            "Mounted at /content/gdrive\n"
          ],
          "name": "stdout"
        }
      ]
    },
    {
      "cell_type": "code",
      "metadata": {
        "id": "sAbaCbOdkuPb",
        "colab": {
          "base_uri": "https://localhost:8080/"
        },
        "outputId": "64413041-b730-4df0-a1a3-da6f1051eec0"
      },
      "source": [
        "%cd /content/gdrive/MyDrive/DPED-master/DPED-master/"
      ],
      "execution_count": null,
      "outputs": [
        {
          "output_type": "stream",
          "text": [
            "/content/gdrive/MyDrive/DPED-master/DPED-master\n"
          ],
          "name": "stdout"
        }
      ]
    },
    {
      "cell_type": "code",
      "metadata": {
        "id": "dmoAqoN0_qnz"
      },
      "source": [
        "!python load_dataset.py model=iphone"
      ],
      "execution_count": null,
      "outputs": []
    },
    {
      "cell_type": "code",
      "metadata": {
        "id": "GE6656ShD30y",
        "colab": {
          "base_uri": "https://localhost:8080/"
        },
        "outputId": "7fce3d95-00e7-4ed3-bc8c-725b0409f3b9"
      },
      "source": [
        "!python train_model.py model=iphone train_size=10019"
      ],
      "execution_count": null,
      "outputs": [
        {
          "output_type": "stream",
          "text": [
            "2021-01-31 15:32:35.357095: I tensorflow/stream_executor/platform/default/dso_loader.cc:49] Successfully opened dynamic library libcudart.so.10.1\n",
            "WARNING:tensorflow:From /usr/local/lib/python3.6/dist-packages/tensorflow/python/compat/v2_compat.py:96: disable_resource_variables (from tensorflow.python.ops.variable_scope) is deprecated and will be removed in a future version.\n",
            "Instructions for updating:\n",
            "non-resource variables are not supported in the long term\n",
            "\n",
            "The following parameters will be applied for CNN training:\n",
            "\n",
            "Phone model: iphone\n",
            "Batch size: 50\n",
            "Learning rate: 0.0005\n",
            "Training iterations: 20000\n",
            "\n",
            "Content loss: 10\n",
            "Color loss: 0.5\n",
            "Texture loss: 1\n",
            "Total variation loss: 2000\n",
            "\n",
            "Path to DPED dataset: dped/\n",
            "Path to VGG-19 network: vgg_pretrained/imagenet-vgg-verydeep-19.mat\n",
            "Evaluation step: 1000\n",
            "\n",
            "2021-01-31 15:32:37.456443: I tensorflow/compiler/jit/xla_cpu_device.cc:41] Not creating XLA devices, tf_xla_enable_xla_devices not set\n",
            "2021-01-31 15:32:37.457371: I tensorflow/stream_executor/platform/default/dso_loader.cc:49] Successfully opened dynamic library libcuda.so.1\n",
            "2021-01-31 15:32:37.478779: I tensorflow/stream_executor/cuda/cuda_gpu_executor.cc:941] successful NUMA node read from SysFS had negative value (-1), but there must be at least one NUMA node, so returning NUMA node zero\n",
            "2021-01-31 15:32:37.479364: I tensorflow/core/common_runtime/gpu/gpu_device.cc:1720] Found device 0 with properties: \n",
            "pciBusID: 0000:00:04.0 name: Tesla P4 computeCapability: 6.1\n",
            "coreClock: 1.1135GHz coreCount: 20 deviceMemorySize: 7.43GiB deviceMemoryBandwidth: 178.99GiB/s\n",
            "2021-01-31 15:32:37.479407: I tensorflow/stream_executor/platform/default/dso_loader.cc:49] Successfully opened dynamic library libcudart.so.10.1\n",
            "2021-01-31 15:32:37.480919: I tensorflow/stream_executor/platform/default/dso_loader.cc:49] Successfully opened dynamic library libcublas.so.10\n",
            "2021-01-31 15:32:37.480985: I tensorflow/stream_executor/platform/default/dso_loader.cc:49] Successfully opened dynamic library libcublasLt.so.10\n",
            "2021-01-31 15:32:37.482685: I tensorflow/stream_executor/platform/default/dso_loader.cc:49] Successfully opened dynamic library libcufft.so.10\n",
            "2021-01-31 15:32:37.483013: I tensorflow/stream_executor/platform/default/dso_loader.cc:49] Successfully opened dynamic library libcurand.so.10\n",
            "2021-01-31 15:32:37.484883: I tensorflow/stream_executor/platform/default/dso_loader.cc:49] Successfully opened dynamic library libcusolver.so.10\n",
            "2021-01-31 15:32:37.485770: I tensorflow/stream_executor/platform/default/dso_loader.cc:49] Successfully opened dynamic library libcusparse.so.10\n",
            "2021-01-31 15:32:37.489446: I tensorflow/stream_executor/platform/default/dso_loader.cc:49] Successfully opened dynamic library libcudnn.so.7\n",
            "2021-01-31 15:32:37.489571: I tensorflow/stream_executor/cuda/cuda_gpu_executor.cc:941] successful NUMA node read from SysFS had negative value (-1), but there must be at least one NUMA node, so returning NUMA node zero\n",
            "2021-01-31 15:32:37.490224: I tensorflow/stream_executor/cuda/cuda_gpu_executor.cc:941] successful NUMA node read from SysFS had negative value (-1), but there must be at least one NUMA node, so returning NUMA node zero\n",
            "2021-01-31 15:32:37.490817: I tensorflow/core/common_runtime/gpu/gpu_device.cc:1862] Adding visible gpu devices: 0\n",
            "2021-01-31 15:32:37.491275: I tensorflow/compiler/jit/xla_gpu_device.cc:99] Not creating XLA devices, tf_xla_enable_xla_devices not set\n",
            "2021-01-31 15:32:37.491388: I tensorflow/stream_executor/cuda/cuda_gpu_executor.cc:941] successful NUMA node read from SysFS had negative value (-1), but there must be at least one NUMA node, so returning NUMA node zero\n",
            "2021-01-31 15:32:37.491946: I tensorflow/core/common_runtime/gpu/gpu_device.cc:1720] Found device 0 with properties: \n",
            "pciBusID: 0000:00:04.0 name: Tesla P4 computeCapability: 6.1\n",
            "coreClock: 1.1135GHz coreCount: 20 deviceMemorySize: 7.43GiB deviceMemoryBandwidth: 178.99GiB/s\n",
            "2021-01-31 15:32:37.491975: I tensorflow/stream_executor/platform/default/dso_loader.cc:49] Successfully opened dynamic library libcudart.so.10.1\n",
            "2021-01-31 15:32:37.492011: I tensorflow/stream_executor/platform/default/dso_loader.cc:49] Successfully opened dynamic library libcublas.so.10\n",
            "2021-01-31 15:32:37.492034: I tensorflow/stream_executor/platform/default/dso_loader.cc:49] Successfully opened dynamic library libcublasLt.so.10\n",
            "2021-01-31 15:32:37.492055: I tensorflow/stream_executor/platform/default/dso_loader.cc:49] Successfully opened dynamic library libcufft.so.10\n",
            "2021-01-31 15:32:37.492075: I tensorflow/stream_executor/platform/default/dso_loader.cc:49] Successfully opened dynamic library libcurand.so.10\n",
            "2021-01-31 15:32:37.492094: I tensorflow/stream_executor/platform/default/dso_loader.cc:49] Successfully opened dynamic library libcusolver.so.10\n",
            "2021-01-31 15:32:37.492113: I tensorflow/stream_executor/platform/default/dso_loader.cc:49] Successfully opened dynamic library libcusparse.so.10\n",
            "2021-01-31 15:32:37.492133: I tensorflow/stream_executor/platform/default/dso_loader.cc:49] Successfully opened dynamic library libcudnn.so.7\n",
            "2021-01-31 15:32:37.492203: I tensorflow/stream_executor/cuda/cuda_gpu_executor.cc:941] successful NUMA node read from SysFS had negative value (-1), but there must be at least one NUMA node, so returning NUMA node zero\n",
            "2021-01-31 15:32:37.492774: I tensorflow/stream_executor/cuda/cuda_gpu_executor.cc:941] successful NUMA node read from SysFS had negative value (-1), but there must be at least one NUMA node, so returning NUMA node zero\n",
            "2021-01-31 15:32:37.493435: I tensorflow/core/common_runtime/gpu/gpu_device.cc:1862] Adding visible gpu devices: 0\n",
            "2021-01-31 15:32:37.493491: I tensorflow/stream_executor/platform/default/dso_loader.cc:49] Successfully opened dynamic library libcudart.so.10.1\n",
            "2021-01-31 15:32:38.189249: I tensorflow/core/common_runtime/gpu/gpu_device.cc:1261] Device interconnect StreamExecutor with strength 1 edge matrix:\n",
            "2021-01-31 15:32:38.189301: I tensorflow/core/common_runtime/gpu/gpu_device.cc:1267]      0 \n",
            "2021-01-31 15:32:38.189313: I tensorflow/core/common_runtime/gpu/gpu_device.cc:1280] 0:   N \n",
            "2021-01-31 15:32:38.189500: I tensorflow/stream_executor/cuda/cuda_gpu_executor.cc:941] successful NUMA node read from SysFS had negative value (-1), but there must be at least one NUMA node, so returning NUMA node zero\n",
            "2021-01-31 15:32:38.189991: I tensorflow/stream_executor/cuda/cuda_gpu_executor.cc:941] successful NUMA node read from SysFS had negative value (-1), but there must be at least one NUMA node, so returning NUMA node zero\n",
            "2021-01-31 15:32:38.190367: I tensorflow/stream_executor/cuda/cuda_gpu_executor.cc:941] successful NUMA node read from SysFS had negative value (-1), but there must be at least one NUMA node, so returning NUMA node zero\n",
            "2021-01-31 15:32:38.190684: W tensorflow/core/common_runtime/gpu/gpu_bfc_allocator.cc:39] Overriding allow_growth setting because the TF_FORCE_GPU_ALLOW_GROWTH environment variable is set. Original config value was 0.\n",
            "2021-01-31 15:32:38.190740: I tensorflow/core/common_runtime/gpu/gpu_device.cc:1406] Created TensorFlow device (/job:localhost/replica:0/task:0/device:GPU:0 with 6958 MB memory) -> physical GPU (device: 0, name: Tesla P4, pci bus id: 0000:00:04.0, compute capability: 6.1)\n",
            "Initializing variables\n",
            "2021-01-31 15:32:43.023457: I tensorflow/compiler/mlir/mlir_graph_optimization_pass.cc:196] None of the MLIR optimization passes are enabled (registered 0 passes)\n",
            "2021-01-31 15:32:43.063749: I tensorflow/core/platform/profile_utils/cpu_utils.cc:112] CPU Frequency: 2299995000 Hz\n",
            "Loading test data...\n",
            "Test data was loaded\n",
            "\n",
            "Loading training data...\n",
            "tcmalloc: large alloc 2404564992 bytes == 0x4e8b2000 @  0x7f594bc56001 0x7f59241cf4ff 0x7f592421fb08 0x7f5924223ac7 0x7f59242c21a3 0x50a4a5 0x50beb4 0x507be4 0x509900 0x50a2fd 0x50beb4 0x507be4 0x50ad03 0x634e72 0x634f27 0x6386df 0x639281 0x4b0dc0 0x7f594b851bf7 0x5b259a\n",
            "tcmalloc: large alloc 2404564992 bytes == 0xdddde000 @  0x7f594bc56001 0x7f59241cf4ff 0x7f592421fb08 0x7f5924223ac7 0x7f59242c21a3 0x50a4a5 0x50beb4 0x507be4 0x509900 0x50a2fd 0x50beb4 0x507be4 0x50ad03 0x634e72 0x634f27 0x6386df 0x639281 0x4b0dc0 0x7f594b851bf7 0x5b259a\n",
            "Training data was loaded\n",
            "\n",
            "Training network\n",
            "2021-01-31 15:33:40.129442: I tensorflow/stream_executor/platform/default/dso_loader.cc:49] Successfully opened dynamic library libcublas.so.10\n",
            "2021-01-31 15:33:41.683883: I tensorflow/stream_executor/platform/default/dso_loader.cc:49] Successfully opened dynamic library libcudnn.so.7\n",
            "2021-01-31 15:33:47.908873: W tensorflow/core/common_runtime/bfc_allocator.cc:248] Allocator (GPU_0_bfc) ran out of memory trying to allocate 1.29GiB with freed_by_count=0. The caller indicates that this is not a failure, but may mean that there could be performance gains if more memory were available.\n",
            "2021-01-31 15:33:47.973940: W tensorflow/core/common_runtime/bfc_allocator.cc:248] Allocator (GPU_0_bfc) ran out of memory trying to allocate 1.29GiB with freed_by_count=0. The caller indicates that this is not a failure, but may mean that there could be performance gains if more memory were available.\n",
            "2021-01-31 15:33:48.067104: W tensorflow/core/common_runtime/bfc_allocator.cc:248] Allocator (GPU_0_bfc) ran out of memory trying to allocate 248.71MiB with freed_by_count=0. The caller indicates that this is not a failure, but may mean that there could be performance gains if more memory were available.\n",
            "step 0, iphone | discriminator accuracy | train: 0.00044, test: 0.475\n",
            "generator losses | train: 0.7313, test: 751.6 | content: 39.04, color: 941.5, texture: -109.6, tv: 5.222e-05 | psnr: 10.52, ms-ssim: 0.3124\n",
            "\n",
            "WARNING:root:Lossy conversion from float64 to uint8. Range [0, 1]. Convert image to uint8 prior to saving to suppress this warning.\n",
            "WARNING:root:Lossy conversion from float64 to uint8. Range [0, 1]. Convert image to uint8 prior to saving to suppress this warning.\n",
            "WARNING:root:Lossy conversion from float64 to uint8. Range [0, 1]. Convert image to uint8 prior to saving to suppress this warning.\n",
            "WARNING:root:Lossy conversion from float64 to uint8. Range [0, 1]. Convert image to uint8 prior to saving to suppress this warning.\n",
            "WARNING:root:Lossy conversion from float64 to uint8. Range [0, 1]. Convert image to uint8 prior to saving to suppress this warning.\n",
            "tcmalloc: large alloc 2404564992 bytes == 0x4e8b2000 @  0x7f594bc56001 0x7f59241cf4ff 0x7f592421fb08 0x7f5924223ac7 0x7f59242c21a3 0x50a4a5 0x50beb4 0x507be4 0x509900 0x50a2fd 0x50beb4 0x507be4 0x50ad03 0x634e72 0x634f27 0x6386df 0x639281 0x4b0dc0 0x7f594b851bf7 0x5b259a\n",
            "tcmalloc: large alloc 2404564992 bytes == 0xdddde000 @  0x7f594bc56001 0x7f59241cf4ff 0x7f592421fb08 0x7f5924223ac7 0x7f59242c21a3 0x50a4a5 0x50beb4 0x507be4 0x509900 0x50a2fd 0x50beb4 0x507be4 0x50ad03 0x634e72 0x634f27 0x6386df 0x639281 0x4b0dc0 0x7f594b851bf7 0x5b259a\n",
            "\n",
            "step 1000, iphone | discriminator accuracy | train: 0.5207, test: 0.515\n",
            "generator losses | train: 267, test: 276.5 | content: 14.49, color: 305.9, texture: -34.97, tv: 0.006847 | psnr: 15.6, ms-ssim: 0.9064\n",
            "\n",
            "WARNING:root:Lossy conversion from float64 to uint8. Range [-0.0007798671722412109, 0.7458061575889587]. Convert image to uint8 prior to saving to suppress this warning.\n",
            "WARNING:root:Lossy conversion from float64 to uint8. Range [0, 1]. Convert image to uint8 prior to saving to suppress this warning.\n",
            "WARNING:root:Lossy conversion from float64 to uint8. Range [0, 1]. Convert image to uint8 prior to saving to suppress this warning.\n",
            "WARNING:root:Lossy conversion from float64 to uint8. Range [0, 1]. Convert image to uint8 prior to saving to suppress this warning.\n",
            "WARNING:root:Lossy conversion from float64 to uint8. Range [0, 1]. Convert image to uint8 prior to saving to suppress this warning.\n",
            "tcmalloc: large alloc 2404564992 bytes == 0x4e8b2000 @  0x7f594bc56001 0x7f59241cf4ff 0x7f592421fb08 0x7f5924223ac7 0x7f59242c21a3 0x50a4a5 0x50beb4 0x507be4 0x509900 0x50a2fd 0x50beb4 0x507be4 0x50ad03 0x634e72 0x634f27 0x6386df 0x639281 0x4b0dc0 0x7f594b851bf7 0x5b259a\n",
            "tcmalloc: large alloc 2404564992 bytes == 0xdddde000 @  0x7f594bc56001 0x7f59241cf4ff 0x7f592421fb08 0x7f5924223ac7 0x7f59242c21a3 0x50a4a5 0x50beb4 0x507be4 0x509900 0x50a2fd 0x50beb4 0x507be4 0x50ad03 0x634e72 0x634f27 0x6386df 0x639281 0x4b0dc0 0x7f594b851bf7 0x5b259a\n",
            "step 2000, iphone | discriminator accuracy | train: 0.5256, test: 0.475\n",
            "generator losses | train: 169.6, test: 243.4 | content: 13.09, color: 266.7, texture: -35.79, tv: 0.007482 | psnr: 16.24, ms-ssim: 0.9111\n",
            "\n",
            "WARNING:root:Lossy conversion from float64 to uint8. Range [-0.03060072660446167, 0.6993462443351746]. Convert image to uint8 prior to saving to suppress this warning.\n",
            "WARNING:root:Lossy conversion from float64 to uint8. Range [0, 1]. Convert image to uint8 prior to saving to suppress this warning.\n",
            "WARNING:root:Lossy conversion from float64 to uint8. Range [0, 1]. Convert image to uint8 prior to saving to suppress this warning.\n",
            "WARNING:root:Lossy conversion from float64 to uint8. Range [0, 1]. Convert image to uint8 prior to saving to suppress this warning.\n",
            "WARNING:root:Lossy conversion from float64 to uint8. Range [0, 1]. Convert image to uint8 prior to saving to suppress this warning.\n",
            "tcmalloc: large alloc 2404564992 bytes == 0x4e8b2000 @  0x7f594bc56001 0x7f59241cf4ff 0x7f592421fb08 0x7f5924223ac7 0x7f59242c21a3 0x50a4a5 0x50beb4 0x507be4 0x509900 0x50a2fd 0x50beb4 0x507be4 0x50ad03 0x634e72 0x634f27 0x6386df 0x639281 0x4b0dc0 0x7f594b851bf7 0x5b259a\n",
            "step 3000, iphone | discriminator accuracy | train: 0.5289, test: 0.53\n",
            "generator losses | train: 150.3, test: 233 | content: 13.16, color: 243.1, texture: -36.62, tv: 0.008226 | psnr: 16.59, ms-ssim: 0.9154\n",
            "\n",
            "WARNING:root:Lossy conversion from float64 to uint8. Range [-0.02683311700820923, 0.7644122838973999]. Convert image to uint8 prior to saving to suppress this warning.\n",
            "WARNING:root:Lossy conversion from float64 to uint8. Range [0, 1]. Convert image to uint8 prior to saving to suppress this warning.\n",
            "WARNING:root:Lossy conversion from float64 to uint8. Range [-0.006017923355102539, 0.989493727684021]. Convert image to uint8 prior to saving to suppress this warning.\n",
            "WARNING:root:Lossy conversion from float64 to uint8. Range [0, 1]. Convert image to uint8 prior to saving to suppress this warning.\n",
            "WARNING:root:Lossy conversion from float64 to uint8. Range [0, 1]. Convert image to uint8 prior to saving to suppress this warning.\n",
            "step 4000, iphone | discriminator accuracy | train: 0.5322, test: 0.5525\n",
            "generator losses | train: 135.7, test: 236.9 | content: 12.41, color: 264.3, texture: -34.47, tv: 0.007528 | psnr: 16.28, ms-ssim: 0.9169\n",
            "\n",
            "WARNING:root:Lossy conversion from float64 to uint8. Range [-0.04456520080566406, 0.5975952744483948]. Convert image to uint8 prior to saving to suppress this warning.\n",
            "WARNING:root:Lossy conversion from float64 to uint8. Range [0.2353515625, 1.0036382675170898]. Convert image to uint8 prior to saving to suppress this warning.\n",
            "WARNING:root:Lossy conversion from float64 to uint8. Range [-0.01203155517578125, 0.9512910842895508]. Convert image to uint8 prior to saving to suppress this warning.\n",
            "WARNING:root:Lossy conversion from float64 to uint8. Range [0, 1]. Convert image to uint8 prior to saving to suppress this warning.\n",
            "WARNING:root:Lossy conversion from float64 to uint8. Range [-0.00047475099563598633, 0.7277789115905762]. Convert image to uint8 prior to saving to suppress this warning.\n",
            "step 5000, iphone | discriminator accuracy | train: 0.5392, test: 0.535\n",
            "generator losses | train: 129.1, test: 262.5 | content: 12.97, color: 305.9, texture: -35.36, tv: 0.007618 | psnr: 15.69, ms-ssim: 0.907\n",
            "\n",
            "WARNING:root:Lossy conversion from float64 to uint8. Range [-0.038124799728393555, 0.6017013788223267]. Convert image to uint8 prior to saving to suppress this warning.\n",
            "WARNING:root:Lossy conversion from float64 to uint8. Range [0, 1]. Convert image to uint8 prior to saving to suppress this warning.\n",
            "WARNING:root:Lossy conversion from float64 to uint8. Range [-0.023443400859832764, 0.9448175430297852]. Convert image to uint8 prior to saving to suppress this warning.\n",
            "WARNING:root:Lossy conversion from float64 to uint8. Range [0, 1]. Convert image to uint8 prior to saving to suppress this warning.\n",
            "WARNING:root:Lossy conversion from float64 to uint8. Range [-0.017729580402374268, 0.8164607286453247]. Convert image to uint8 prior to saving to suppress this warning.\n",
            "step 6000, iphone | discriminator accuracy | train: 0.549, test: 0.61\n",
            "generator losses | train: 119.9, test: 214.5 | content: 12, color: 224.7, texture: -33.72, tv: 0.007945 | psnr: 16.76, ms-ssim: 0.9125\n",
            "\n",
            "WARNING:root:Lossy conversion from float64 to uint8. Range [-0.010556340217590332, 0.6615669131278992]. Convert image to uint8 prior to saving to suppress this warning.\n",
            "WARNING:root:Lossy conversion from float64 to uint8. Range [0, 1]. Convert image to uint8 prior to saving to suppress this warning.\n",
            "WARNING:root:Lossy conversion from float64 to uint8. Range [0, 1]. Convert image to uint8 prior to saving to suppress this warning.\n",
            "WARNING:root:Lossy conversion from float64 to uint8. Range [0, 1]. Convert image to uint8 prior to saving to suppress this warning.\n",
            "WARNING:root:Lossy conversion from float64 to uint8. Range [0, 1]. Convert image to uint8 prior to saving to suppress this warning.\n",
            "step 7000, iphone | discriminator accuracy | train: 0.5641, test: 0.5925\n",
            "generator losses | train: 116.1, test: 213.1 | content: 11.94, color: 224.9, texture: -33.49, tv: 0.007345 | psnr: 16.81, ms-ssim: 0.9148\n",
            "\n",
            "WARNING:root:Lossy conversion from float64 to uint8. Range [-0.0029703378677368164, 0.6341894865036011]. Convert image to uint8 prior to saving to suppress this warning.\n",
            "WARNING:root:Lossy conversion from float64 to uint8. Range [0.2353515625, 1.0123894214630127]. Convert image to uint8 prior to saving to suppress this warning.\n",
            "WARNING:root:Lossy conversion from float64 to uint8. Range [0, 1]. Convert image to uint8 prior to saving to suppress this warning.\n",
            "WARNING:root:Lossy conversion from float64 to uint8. Range [0, 1]. Convert image to uint8 prior to saving to suppress this warning.\n",
            "WARNING:root:Lossy conversion from float64 to uint8. Range [0, 1]. Convert image to uint8 prior to saving to suppress this warning.\n",
            "step 8000, iphone | discriminator accuracy | train: 0.5644, test: 0.565\n",
            "generator losses | train: 112.8, test: 213.8 | content: 11.79, color: 222.4, texture: -33.96, tv: 0.009306 | psnr: 16.85, ms-ssim: 0.9189\n",
            "\n",
            "WARNING:root:Lossy conversion from float64 to uint8. Range [-0.020001590251922607, 0.6419133543968201]. Convert image to uint8 prior to saving to suppress this warning.\n",
            "WARNING:root:Lossy conversion from float64 to uint8. Range [0.2353515625, 1.0056443214416504]. Convert image to uint8 prior to saving to suppress this warning.\n",
            "WARNING:root:Lossy conversion from float64 to uint8. Range [-0.034494757652282715, 0.986072301864624]. Convert image to uint8 prior to saving to suppress this warning.\n",
            "WARNING:root:Lossy conversion from float64 to uint8. Range [0, 1]. Convert image to uint8 prior to saving to suppress this warning.\n",
            "WARNING:root:Lossy conversion from float64 to uint8. Range [-0.012774646282196045, 0.818344235420227]. Convert image to uint8 prior to saving to suppress this warning.\n",
            "step 9000, iphone | discriminator accuracy | train: 0.5696, test: 0.5625\n",
            "generator losses | train: 109, test: 217.7 | content: 12.22, color: 222.8, texture: -33.82, tv: 0.008945 | psnr: 16.8, ms-ssim: 0.9192\n",
            "\n",
            "WARNING:root:Lossy conversion from float64 to uint8. Range [-0.02951914072036743, 0.6440014243125916]. Convert image to uint8 prior to saving to suppress this warning.\n",
            "WARNING:root:Lossy conversion from float64 to uint8. Range [0, 1]. Convert image to uint8 prior to saving to suppress this warning.\n",
            "WARNING:root:Lossy conversion from float64 to uint8. Range [-0.017693758010864258, 0.9226534366607666]. Convert image to uint8 prior to saving to suppress this warning.\n",
            "WARNING:root:Lossy conversion from float64 to uint8. Range [-0.013638615608215332, 0.8756806254386902]. Convert image to uint8 prior to saving to suppress this warning.\n",
            "WARNING:root:Lossy conversion from float64 to uint8. Range [-0.030237138271331787, 0.7573975324630737]. Convert image to uint8 prior to saving to suppress this warning.\n",
            "step 10000, iphone | discriminator accuracy | train: 0.5864, test: 0.6075\n",
            "generator losses | train: 109.2, test: 211.1 | content: 11.62, color: 218.2, texture: -32.96, tv: 0.009405 | psnr: 16.89, ms-ssim: 0.9192\n",
            "\n",
            "WARNING:root:Lossy conversion from float64 to uint8. Range [-0.008926987648010254, 0.6371710896492004]. Convert image to uint8 prior to saving to suppress this warning.\n",
            "WARNING:root:Lossy conversion from float64 to uint8. Range [0, 1]. Convert image to uint8 prior to saving to suppress this warning.\n",
            "WARNING:root:Lossy conversion from float64 to uint8. Range [-0.025871872901916504, 0.9777660369873047]. Convert image to uint8 prior to saving to suppress this warning.\n",
            "WARNING:root:Lossy conversion from float64 to uint8. Range [0, 1]. Convert image to uint8 prior to saving to suppress this warning.\n",
            "WARNING:root:Lossy conversion from float64 to uint8. Range [-0.008662104606628418, 0.8155254125595093]. Convert image to uint8 prior to saving to suppress this warning.\n",
            "step 11000, iphone | discriminator accuracy | train: 0.5924, test: 0.5675\n",
            "generator losses | train: 104.3, test: 247.4 | content: 11.91, color: 283.3, texture: -34.79, tv: 0.0107 | psnr: 15.94, ms-ssim: 0.9125\n",
            "\n",
            "WARNING:root:Lossy conversion from float64 to uint8. Range [-0.03072333335876465, 0.7040572166442871]. Convert image to uint8 prior to saving to suppress this warning.\n",
            "WARNING:root:Lossy conversion from float64 to uint8. Range [0, 1]. Convert image to uint8 prior to saving to suppress this warning.\n",
            "WARNING:root:Lossy conversion from float64 to uint8. Range [-0.05239593982696533, 0.9621529579162598]. Convert image to uint8 prior to saving to suppress this warning.\n",
            "WARNING:root:Lossy conversion from float64 to uint8. Range [-0.019572019577026367, 0.8868743777275085]. Convert image to uint8 prior to saving to suppress this warning.\n",
            "WARNING:root:Lossy conversion from float64 to uint8. Range [-0.04326975345611572, 0.8447801470756531]. Convert image to uint8 prior to saving to suppress this warning.\n",
            "step 12000, iphone | discriminator accuracy | train: 0.6019, test: 0.5625\n",
            "generator losses | train: 99.66, test: 215.3 | content: 11.7, color: 224.7, texture: -34.04, tv: 0.01003 | psnr: 16.8, ms-ssim: 0.9188\n",
            "\n",
            "WARNING:root:Lossy conversion from float64 to uint8. Range [-0.01458430290222168, 0.6858035326004028]. Convert image to uint8 prior to saving to suppress this warning.\n",
            "WARNING:root:Lossy conversion from float64 to uint8. Range [0.2353515625, 1.0183055400848389]. Convert image to uint8 prior to saving to suppress this warning.\n",
            "WARNING:root:Lossy conversion from float64 to uint8. Range [-0.017775654792785645, 1.0079654455184937]. Convert image to uint8 prior to saving to suppress this warning.\n",
            "WARNING:root:Lossy conversion from float64 to uint8. Range [0, 1]. Convert image to uint8 prior to saving to suppress this warning.\n",
            "WARNING:root:Lossy conversion from float64 to uint8. Range [-0.020415902137756348, 0.7571932077407837]. Convert image to uint8 prior to saving to suppress this warning.\n",
            "step 13000, iphone | discriminator accuracy | train: 0.6119, test: 0.6075\n",
            "generator losses | train: 95.84, test: 226.3 | content: 11.63, color: 248.5, texture: -33.33, tv: 0.00953 | psnr: 16.41, ms-ssim: 0.9136\n",
            "\n",
            "WARNING:root:Lossy conversion from float64 to uint8. Range [-0.012965917587280273, 0.7049922347068787]. Convert image to uint8 prior to saving to suppress this warning.\n",
            "WARNING:root:Lossy conversion from float64 to uint8. Range [0.2353515625, 1.026963472366333]. Convert image to uint8 prior to saving to suppress this warning.\n",
            "WARNING:root:Lossy conversion from float64 to uint8. Range [-0.023517251014709473, 0.9557980298995972]. Convert image to uint8 prior to saving to suppress this warning.\n",
            "WARNING:root:Lossy conversion from float64 to uint8. Range [0, 1]. Convert image to uint8 prior to saving to suppress this warning.\n",
            "WARNING:root:Lossy conversion from float64 to uint8. Range [-0.027521073818206787, 0.699554979801178]. Convert image to uint8 prior to saving to suppress this warning.\n",
            "step 14000, iphone | discriminator accuracy | train: 0.6302, test: 0.5375\n",
            "generator losses | train: 93.53, test: 221.6 | content: 11.57, color: 243.3, texture: -35.14, tv: 0.009699 | psnr: 16.48, ms-ssim: 0.9157\n",
            "\n",
            "WARNING:root:Lossy conversion from float64 to uint8. Range [-0.027485251426696777, 0.7746320962905884]. Convert image to uint8 prior to saving to suppress this warning.\n",
            "WARNING:root:Lossy conversion from float64 to uint8. Range [0, 1]. Convert image to uint8 prior to saving to suppress this warning.\n",
            "WARNING:root:Lossy conversion from float64 to uint8. Range [-0.02476102113723755, 0.9707515239715576]. Convert image to uint8 prior to saving to suppress this warning.\n",
            "WARNING:root:Lossy conversion from float64 to uint8. Range [0, 1]. Convert image to uint8 prior to saving to suppress this warning.\n",
            "WARNING:root:Lossy conversion from float64 to uint8. Range [-0.017409801483154297, 0.7760981321334839]. Convert image to uint8 prior to saving to suppress this warning.\n",
            "step 15000, iphone | discriminator accuracy | train: 0.6534, test: 0.54\n",
            "generator losses | train: 93.15, test: 233.7 | content: 12.2, color: 257.5, texture: -35.85, tv: 0.009389 | psnr: 16.29, ms-ssim: 0.9119\n",
            "\n",
            "WARNING:root:Lossy conversion from float64 to uint8. Range [-0.011289894580841064, 0.6466999650001526]. Convert image to uint8 prior to saving to suppress this warning.\n",
            "WARNING:root:Lossy conversion from float64 to uint8. Range [0.2353515625, 1.0321810245513916]. Convert image to uint8 prior to saving to suppress this warning.\n",
            "WARNING:root:Lossy conversion from float64 to uint8. Range [-0.01974809169769287, 0.9844002723693848]. Convert image to uint8 prior to saving to suppress this warning.\n",
            "WARNING:root:Lossy conversion from float64 to uint8. Range [0, 1]. Convert image to uint8 prior to saving to suppress this warning.\n",
            "WARNING:root:Lossy conversion from float64 to uint8. Range [-0.0044782161712646484, 0.6821063756942749]. Convert image to uint8 prior to saving to suppress this warning.\n",
            "step 16000, iphone | discriminator accuracy | train: 0.6722, test: 0.5325\n",
            "generator losses | train: 91.73, test: 214.9 | content: 11.9, color: 228.6, texture: -39.74, tv: 0.01067 | psnr: 16.69, ms-ssim: 0.9134\n",
            "\n",
            "WARNING:root:Lossy conversion from float64 to uint8. Range [-0.005515396595001221, 0.6673890352249146]. Convert image to uint8 prior to saving to suppress this warning.\n",
            "WARNING:root:Lossy conversion from float64 to uint8. Range [0.2353515625, 1.0170269012451172]. Convert image to uint8 prior to saving to suppress this warning.\n",
            "WARNING:root:Lossy conversion from float64 to uint8. Range [-0.05604887008666992, 0.9931148886680603]. Convert image to uint8 prior to saving to suppress this warning.\n",
            "WARNING:root:Lossy conversion from float64 to uint8. Range [0, 1]. Convert image to uint8 prior to saving to suppress this warning.\n",
            "WARNING:root:Lossy conversion from float64 to uint8. Range [-0.028079688549041748, 0.7437751293182373]. Convert image to uint8 prior to saving to suppress this warning.\n",
            "step 17000, iphone | discriminator accuracy | train: 0.6999, test: 0.58\n",
            "generator losses | train: 94.38, test: 206.6 | content: 11.88, color: 211.6, texture: -37.52, tv: 0.009753 | psnr: 16.97, ms-ssim: 0.9185\n",
            "\n",
            "WARNING:root:Lossy conversion from float64 to uint8. Range [0, 1]. Convert image to uint8 prior to saving to suppress this warning.\n",
            "WARNING:root:Lossy conversion from float64 to uint8. Range [0.2353515625, 1.0444767475128174]. Convert image to uint8 prior to saving to suppress this warning.\n",
            "WARNING:root:Lossy conversion from float64 to uint8. Range [0.0009201169013977051, 1.000929594039917]. Convert image to uint8 prior to saving to suppress this warning.\n",
            "WARNING:root:Lossy conversion from float64 to uint8. Range [0, 1]. Convert image to uint8 prior to saving to suppress this warning.\n",
            "WARNING:root:Lossy conversion from float64 to uint8. Range [0, 1]. Convert image to uint8 prior to saving to suppress this warning.\n",
            "step 18000, iphone | discriminator accuracy | train: 0.7256, test: 0.5075\n",
            "generator losses | train: 94.6, test: 203.2 | content: 11.67, color: 219.6, texture: -44.83, tv: 0.01074 | psnr: 16.85, ms-ssim: 0.9186\n",
            "\n",
            "WARNING:root:Lossy conversion from float64 to uint8. Range [0, 1]. Convert image to uint8 prior to saving to suppress this warning.\n",
            "WARNING:root:Lossy conversion from float64 to uint8. Range [0.2353515625, 1.0534098148345947]. Convert image to uint8 prior to saving to suppress this warning.\n",
            "WARNING:root:Lossy conversion from float64 to uint8. Range [-0.016933321952819824, 0.9970041513442993]. Convert image to uint8 prior to saving to suppress this warning.\n",
            "WARNING:root:Lossy conversion from float64 to uint8. Range [0, 1]. Convert image to uint8 prior to saving to suppress this warning.\n",
            "WARNING:root:Lossy conversion from float64 to uint8. Range [-0.03465932607650757, 0.7763270139694214]. Convert image to uint8 prior to saving to suppress this warning.\n",
            "step 19000, iphone | discriminator accuracy | train: 0.7514, test: 0.5225\n",
            "generator losses | train: 95.42, test: 203.6 | content: 11.7, color: 220.1, texture: -42.99, tv: 0.009748 | psnr: 16.81, ms-ssim: 0.9176\n",
            "\n",
            "WARNING:root:Lossy conversion from float64 to uint8. Range [-0.012622356414794922, 0.7038311958312988]. Convert image to uint8 prior to saving to suppress this warning.\n",
            "WARNING:root:Lossy conversion from float64 to uint8. Range [0.2353515625, 1.0268886089324951]. Convert image to uint8 prior to saving to suppress this warning.\n",
            "WARNING:root:Lossy conversion from float64 to uint8. Range [-0.029134929180145264, 0.9694782495498657]. Convert image to uint8 prior to saving to suppress this warning.\n",
            "WARNING:root:Lossy conversion from float64 to uint8. Range [0, 1]. Convert image to uint8 prior to saving to suppress this warning.\n",
            "WARNING:root:Lossy conversion from float64 to uint8. Range [-0.024258732795715332, 0.8680914044380188]. Convert image to uint8 prior to saving to suppress this warning.\n"
          ],
          "name": "stdout"
        }
      ]
    },
    {
      "cell_type": "code",
      "metadata": {
        "id": "FvnULCiawv8a",
        "colab": {
          "base_uri": "https://localhost:8080/"
        },
        "outputId": "ed70edf8-26d6-4aa3-d2aa-da3d2c1c7b41"
      },
      "source": [
        "!python test_model.py model=iphone iteration=18000 test_subset=full use_gpu=true"
      ],
      "execution_count": null,
      "outputs": [
        {
          "output_type": "stream",
          "text": [
            "2021-02-05 17:39:27.618024: I tensorflow/stream_executor/platform/default/dso_loader.cc:49] Successfully opened dynamic library libcudart.so.10.1\n",
            "WARNING:tensorflow:From /usr/local/lib/python3.6/dist-packages/tensorflow/python/compat/v2_compat.py:96: disable_resource_variables (from tensorflow.python.ops.variable_scope) is deprecated and will be removed in a future version.\n",
            "Instructions for updating:\n",
            "non-resource variables are not supported in the long term\n",
            "2021-02-05 17:39:30.318950: I tensorflow/compiler/jit/xla_cpu_device.cc:41] Not creating XLA devices, tf_xla_enable_xla_devices not set\n",
            "2021-02-05 17:39:30.320182: I tensorflow/stream_executor/platform/default/dso_loader.cc:49] Successfully opened dynamic library libcuda.so.1\n",
            "2021-02-05 17:39:30.372824: I tensorflow/stream_executor/cuda/cuda_gpu_executor.cc:941] successful NUMA node read from SysFS had negative value (-1), but there must be at least one NUMA node, so returning NUMA node zero\n",
            "2021-02-05 17:39:30.373396: I tensorflow/core/common_runtime/gpu/gpu_device.cc:1720] Found device 0 with properties: \n",
            "pciBusID: 0000:00:04.0 name: Tesla T4 computeCapability: 7.5\n",
            "coreClock: 1.59GHz coreCount: 40 deviceMemorySize: 14.73GiB deviceMemoryBandwidth: 298.08GiB/s\n",
            "2021-02-05 17:39:30.373445: I tensorflow/stream_executor/platform/default/dso_loader.cc:49] Successfully opened dynamic library libcudart.so.10.1\n",
            "2021-02-05 17:39:30.607299: I tensorflow/stream_executor/platform/default/dso_loader.cc:49] Successfully opened dynamic library libcublas.so.10\n",
            "2021-02-05 17:39:30.607419: I tensorflow/stream_executor/platform/default/dso_loader.cc:49] Successfully opened dynamic library libcublasLt.so.10\n",
            "2021-02-05 17:39:30.726842: I tensorflow/stream_executor/platform/default/dso_loader.cc:49] Successfully opened dynamic library libcufft.so.10\n",
            "2021-02-05 17:39:30.758585: I tensorflow/stream_executor/platform/default/dso_loader.cc:49] Successfully opened dynamic library libcurand.so.10\n",
            "2021-02-05 17:39:31.051163: I tensorflow/stream_executor/platform/default/dso_loader.cc:49] Successfully opened dynamic library libcusolver.so.10\n",
            "2021-02-05 17:39:31.082047: I tensorflow/stream_executor/platform/default/dso_loader.cc:49] Successfully opened dynamic library libcusparse.so.10\n",
            "2021-02-05 17:39:31.600778: I tensorflow/stream_executor/platform/default/dso_loader.cc:49] Successfully opened dynamic library libcudnn.so.7\n",
            "2021-02-05 17:39:31.600981: I tensorflow/stream_executor/cuda/cuda_gpu_executor.cc:941] successful NUMA node read from SysFS had negative value (-1), but there must be at least one NUMA node, so returning NUMA node zero\n",
            "2021-02-05 17:39:31.601620: I tensorflow/stream_executor/cuda/cuda_gpu_executor.cc:941] successful NUMA node read from SysFS had negative value (-1), but there must be at least one NUMA node, so returning NUMA node zero\n",
            "2021-02-05 17:39:31.604834: I tensorflow/core/common_runtime/gpu/gpu_device.cc:1862] Adding visible gpu devices: 0\n",
            "2021-02-05 17:39:31.605380: I tensorflow/compiler/jit/xla_gpu_device.cc:99] Not creating XLA devices, tf_xla_enable_xla_devices not set\n",
            "2021-02-05 17:39:31.605523: I tensorflow/stream_executor/cuda/cuda_gpu_executor.cc:941] successful NUMA node read from SysFS had negative value (-1), but there must be at least one NUMA node, so returning NUMA node zero\n",
            "2021-02-05 17:39:31.606115: I tensorflow/core/common_runtime/gpu/gpu_device.cc:1720] Found device 0 with properties: \n",
            "pciBusID: 0000:00:04.0 name: Tesla T4 computeCapability: 7.5\n",
            "coreClock: 1.59GHz coreCount: 40 deviceMemorySize: 14.73GiB deviceMemoryBandwidth: 298.08GiB/s\n",
            "2021-02-05 17:39:31.606165: I tensorflow/stream_executor/platform/default/dso_loader.cc:49] Successfully opened dynamic library libcudart.so.10.1\n",
            "2021-02-05 17:39:31.606209: I tensorflow/stream_executor/platform/default/dso_loader.cc:49] Successfully opened dynamic library libcublas.so.10\n",
            "2021-02-05 17:39:31.606244: I tensorflow/stream_executor/platform/default/dso_loader.cc:49] Successfully opened dynamic library libcublasLt.so.10\n",
            "2021-02-05 17:39:31.606270: I tensorflow/stream_executor/platform/default/dso_loader.cc:49] Successfully opened dynamic library libcufft.so.10\n",
            "2021-02-05 17:39:31.606292: I tensorflow/stream_executor/platform/default/dso_loader.cc:49] Successfully opened dynamic library libcurand.so.10\n",
            "2021-02-05 17:39:31.606312: I tensorflow/stream_executor/platform/default/dso_loader.cc:49] Successfully opened dynamic library libcusolver.so.10\n",
            "2021-02-05 17:39:31.606336: I tensorflow/stream_executor/platform/default/dso_loader.cc:49] Successfully opened dynamic library libcusparse.so.10\n",
            "2021-02-05 17:39:31.606360: I tensorflow/stream_executor/platform/default/dso_loader.cc:49] Successfully opened dynamic library libcudnn.so.7\n",
            "2021-02-05 17:39:31.606428: I tensorflow/stream_executor/cuda/cuda_gpu_executor.cc:941] successful NUMA node read from SysFS had negative value (-1), but there must be at least one NUMA node, so returning NUMA node zero\n",
            "2021-02-05 17:39:31.607076: I tensorflow/stream_executor/cuda/cuda_gpu_executor.cc:941] successful NUMA node read from SysFS had negative value (-1), but there must be at least one NUMA node, so returning NUMA node zero\n",
            "2021-02-05 17:39:31.607591: I tensorflow/core/common_runtime/gpu/gpu_device.cc:1862] Adding visible gpu devices: 0\n",
            "2021-02-05 17:39:31.610554: I tensorflow/stream_executor/platform/default/dso_loader.cc:49] Successfully opened dynamic library libcudart.so.10.1\n",
            "2021-02-05 17:39:35.693454: I tensorflow/core/common_runtime/gpu/gpu_device.cc:1261] Device interconnect StreamExecutor with strength 1 edge matrix:\n",
            "2021-02-05 17:39:35.693515: I tensorflow/core/common_runtime/gpu/gpu_device.cc:1267]      0 \n",
            "2021-02-05 17:39:35.693530: I tensorflow/core/common_runtime/gpu/gpu_device.cc:1280] 0:   N \n",
            "2021-02-05 17:39:35.697809: I tensorflow/stream_executor/cuda/cuda_gpu_executor.cc:941] successful NUMA node read from SysFS had negative value (-1), but there must be at least one NUMA node, so returning NUMA node zero\n",
            "2021-02-05 17:39:35.698411: I tensorflow/stream_executor/cuda/cuda_gpu_executor.cc:941] successful NUMA node read from SysFS had negative value (-1), but there must be at least one NUMA node, so returning NUMA node zero\n",
            "2021-02-05 17:39:35.698977: I tensorflow/stream_executor/cuda/cuda_gpu_executor.cc:941] successful NUMA node read from SysFS had negative value (-1), but there must be at least one NUMA node, so returning NUMA node zero\n",
            "2021-02-05 17:39:35.699473: W tensorflow/core/common_runtime/gpu/gpu_bfc_allocator.cc:39] Overriding allow_growth setting because the TF_FORCE_GPU_ALLOW_GROWTH environment variable is set. Original config value was 0.\n",
            "2021-02-05 17:39:35.699523: I tensorflow/core/common_runtime/gpu/gpu_device.cc:1406] Created TensorFlow device (/job:localhost/replica:0/task:0/device:GPU:0 with 13960 MB memory) -> physical GPU (device: 0, name: Tesla T4, pci bus id: 0000:00:04.0, compute capability: 7.5)\n",
            "2021-02-05 17:39:35.752086: I tensorflow/compiler/mlir/mlir_graph_optimization_pass.cc:196] None of the MLIR optimization passes are enabled (registered 0 passes)\n",
            "2021-02-05 17:39:35.770087: I tensorflow/core/platform/profile_utils/cpu_utils.cc:112] CPU Frequency: 2199995000 Hz\n",
            "iteration 18000, processing image 20170825_184118.jpg\n",
            "2021-02-05 17:39:38.065617: I tensorflow/stream_executor/platform/default/dso_loader.cc:49] Successfully opened dynamic library libcudnn.so.7\n",
            "2021-02-05 17:39:43.480087: I tensorflow/stream_executor/platform/default/dso_loader.cc:49] Successfully opened dynamic library libcublas.so.10\n",
            "WARNING:root:Lossy conversion from float32 to uint8. Range [-0.07847124338150024, 1.0791740417480469]. Convert image to uint8 prior to saving to suppress this warning.\n",
            "WARNING:root:Lossy conversion from float32 to uint8. Range [-0.07847124338150024, 1.0791740417480469]. Convert image to uint8 prior to saving to suppress this warning.\n",
            "iteration 18000, processing image test.jpg\n",
            "WARNING:root:Lossy conversion from float32 to uint8. Range [-0.07850873470306396, 1.0793430805206299]. Convert image to uint8 prior to saving to suppress this warning.\n",
            "WARNING:root:Lossy conversion from float32 to uint8. Range [-0.07850873470306396, 1.0793430805206299]. Convert image to uint8 prior to saving to suppress this warning.\n",
            "iteration 18000, processing image test2.png\n",
            "Traceback (most recent call last):\n",
            "  File \"test_model.py\", line 96, in <module>\n",
            "    image_crop_2d = np.reshape(image_crop, [1, IMAGE_SIZE])\n",
            "  File \"<__array_function__ internals>\", line 6, in reshape\n",
            "  File \"/usr/local/lib/python3.6/dist-packages/numpy/core/fromnumeric.py\", line 299, in reshape\n",
            "    return _wrapfunc(a, 'reshape', newshape, order=order)\n",
            "  File \"/usr/local/lib/python3.6/dist-packages/numpy/core/fromnumeric.py\", line 58, in _wrapfunc\n",
            "    return bound(*args, **kwds)\n",
            "ValueError: cannot reshape array of size 12582912 into shape (1,9437184)\n"
          ],
          "name": "stdout"
        }
      ]
    }
  ]
}