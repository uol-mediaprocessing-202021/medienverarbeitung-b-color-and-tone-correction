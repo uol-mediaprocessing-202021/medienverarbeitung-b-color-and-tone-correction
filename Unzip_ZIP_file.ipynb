{
  "nbformat": 4,
  "nbformat_minor": 0,
  "metadata": {
    "colab": {
      "name": "Untitled1.ipynb",
      "provenance": [],
      "authorship_tag": "ABX9TyMSNXYUTIpe/KrYFomOZw7a",
      "include_colab_link": true
    },
    "kernelspec": {
      "name": "python3",
      "display_name": "Python 3"
    }
  },
  "cells": [
    {
      "cell_type": "markdown",
      "metadata": {
        "id": "view-in-github",
        "colab_type": "text"
      },
      "source": [
        "<a href=\"https://colab.research.google.com/github/uol-mediaprocessing-202021/medienverarbeitung-b-color-and-tone-correction/blob/develop/Unzip_ZIP_file.ipynb\" target=\"_parent\"><img src=\"https://colab.research.google.com/assets/colab-badge.svg\" alt=\"Open In Colab\"/></a>"
      ]
    },
    {
      "cell_type": "markdown",
      "metadata": {
        "id": "g5ayOp9C0uN4"
      },
      "source": [
        "# Unzip ZIP file\r\n",
        "\r\n",
        "The unzip zip file method is used to unzip zip folders. The group uses this method to unzip folders that they share in Google Colab.  "
      ]
    },
    {
      "cell_type": "code",
      "metadata": {
        "id": "u4-klalv0Wiv"
      },
      "source": [
        "from zipfile import ZipFile"
      ],
      "execution_count": null,
      "outputs": []
    },
    {
      "cell_type": "code",
      "metadata": {
        "id": "J9QikJA_0aKP"
      },
      "source": [
        "from google.colab import drive\r\n",
        "drive.mount(\"/content/gdrive\")"
      ],
      "execution_count": null,
      "outputs": []
    },
    {
      "cell_type": "code",
      "metadata": {
        "id": "ageh1x2L0cxW"
      },
      "source": [
        "with ZipFile('/content/gdrive/MyDrive/huawei10000/huawei10000.zip', 'r') as zipObj:\r\n",
        "   # Extract all the contents of zip file in current directory\r\n",
        "   zipObj.extractall(path=\"/content/gdrive/MyDrive/huawei10000/\")"
      ],
      "execution_count": null,
      "outputs": []
    },
    {
      "cell_type": "code",
      "metadata": {
        "id": "5y92KQle0g0v"
      },
      "source": [
        "with ZipFile('/content/gdrive/MyDrive/canon10000/canon10000.zip', 'r') as zipObj:\r\n",
        "   # Extract all the contents of zip file in current directory\r\n",
        "   zipObj.extractall(path=\"/content/gdrive/MyDrive/canon10000/\")"
      ],
      "execution_count": null,
      "outputs": []
    },
    {
      "cell_type": "code",
      "metadata": {
        "id": "isYah5-T0iWO"
      },
      "source": [
        "with ZipFile('/content/gdrive/MyDrive/DPED-master/DPED-master.zip', 'r') as zipObj:\r\n",
        "   # Extract all the contents of zip file in current directory\r\n",
        "   zipObj.extractall(path=\"/content/gdrive/MyDrive/DPED-master/\")"
      ],
      "execution_count": null,
      "outputs": []
    },
    {
      "cell_type": "code",
      "metadata": {
        "id": "_UDXq7b20kBM"
      },
      "source": [
        "with ZipFile('/content/gdrive/MyDrive/canon_test.zip', 'r') as zipObj:\r\n",
        "   # Extract all the contents of zip file in current directory\r\n",
        "   zipObj.extractall(path=\"/content/gdrive/MyDrive/canon_test/\")"
      ],
      "execution_count": null,
      "outputs": []
    },
    {
      "cell_type": "code",
      "metadata": {
        "id": "wWoOQR700l1c"
      },
      "source": [
        "with ZipFile('/content/gdrive/MyDrive/huawei_test.zip', 'r') as zipObj:\r\n",
        "   # Extract all the contents of zip file in current directory\r\n",
        "   zipObj.extractall(path=\"/content/gdrive/MyDrive/huawei_test/\")"
      ],
      "execution_count": null,
      "outputs": []
    }
  ]
}